{
 "cells": [
  {
   "cell_type": "code",
   "execution_count": 1,
   "id": "grand-vanilla",
   "metadata": {},
   "outputs": [],
   "source": [
    "import pandas as pd\n",
    "import numpy as np\n",
    "from sqlalchemy import create_engine\n",
    "from collections import defaultdict "
   ]
  },
  {
   "cell_type": "code",
   "execution_count": 2,
   "id": "objective-wireless",
   "metadata": {},
   "outputs": [],
   "source": [
    "from sklearn.ensemble import RandomForestRegressor\n",
    "from sklearn.preprocessing import StandardScaler\n",
    "from sklearn.pipeline import make_pipeline\n",
    "from sklearn.neural_network import MLPRegressor\n",
    "from sklearn.linear_model import LinearRegression\n",
    "from sklearn.model_selection import TimeSeriesSplit, RandomizedSearchCV"
   ]
  },
  {
   "cell_type": "code",
   "execution_count": 3,
   "id": "breeding-implementation",
   "metadata": {},
   "outputs": [],
   "source": [
    "from feat_metrics import calculate_n_day_return, calculate_sma, calculate_momentum\n",
    "from feat_metrics import calculate_volatility, calculate_ema, calculate_capm\n",
    "from process_modules import TrainModel\n",
    "from process_modules.load_data import LoadData\n",
    "from move_data import load_models"
   ]
  },
  {
   "cell_type": "markdown",
   "id": "stopped-clause",
   "metadata": {},
   "source": [
    "# Brazilian stock price prediction"
   ]
  },
  {
   "cell_type": "markdown",
   "id": "peripheral-monster",
   "metadata": {},
   "source": [
    "## Table of Contents\n",
    "\n",
    "1. [Project Definition](#Project-Definition)<br>\n",
    "2. [Analysis](#Analysis)<br>\n",
    "3. [Methodology](#Methodology)<br>\n",
    "4. [Results](#Results)<br>\n",
    "5. [Conclusion](#Conclusion)<br>"
   ]
  },
  {
   "cell_type": "markdown",
   "id": "greek-israeli",
   "metadata": {},
   "source": [
    "## <a class=\"anchor\" id=\"Project-Definition\">Part I : Project Definition</a>"
   ]
  },
  {
   "cell_type": "markdown",
   "id": "immune-palace",
   "metadata": {},
   "source": [
    "Predict stocks price or having some type of advantage in market decision is a subject of great interest. However, [Efficient Markets Hypothesis](https://www.investopedia.com/terms/e/efficientmarkethypothesis.asp) says that it is not possible to beat the market because its behaviour is completely random. But a lot of hedge funds have had high gains historically. Can we predict stock prices?"
   ]
  },
  {
   "cell_type": "markdown",
   "id": "involved-worthy",
   "metadata": {},
   "source": [
    "### Problem Statement"
   ]
  },
  {
   "cell_type": "markdown",
   "id": "editorial-dress",
   "metadata": {},
   "source": [
    "For this project, I was interested to study more about stock market and time series. Moreover, I was eager to know which kind of features I will use and check how well I will predict stocks in a first approach. So the challenge is to build a stock price predictor that takes daily trading data over a certain date range as input, and outputs projected estimates for given query dates. The predicted target is adjusted close stock price, it is close price adjusted historically after splits, dividends and other events. These models are built for different stocks and estimate prices for several future days.\n",
    "\n",
    "The project description is available from Udacity at this [link](https://docs.google.com/document/d/1ycGeb1QYKATG6jvz74SAMqxrlek9Ed4RYrzWNhWS-0Q/pub). \n",
    "\n",
    "\n",
    "All data are from [Yahoo Finance](https://finance.yahoo.com/) and extracted by [yahooquery](https://pypi.org/project/yahooquery/) API. \n",
    "\n",
    "There are two broad categories of approaches used for choose stocks to buy or sell. They are fundamental analysis and technical analysis.\n",
    "- Fundamental analysis: Look for aspects of a company to try estimate its real value. If the price of this stock is lower than its value buy it and if it is higher than its value sell it.\n",
    "\n",
    "- Technical analysis: Just use price and volume to discovery patterns and trends to buy or sell a stock.\n"
   ]
  },
  {
   "cell_type": "markdown",
   "id": "double-right",
   "metadata": {},
   "source": [
    "For this project, it will follow Technical approach. It will be created some features based in theorical and practical market knowledge\n",
    "only using past adjusted close price of the specific stock and a market index. The expected solution is not a high performance model, because this problem is really complex.\n",
    "But understading more about this topic and finding a starting point to tackle this subject are the expected solution."
   ]
  },
  {
   "cell_type": "markdown",
   "id": "collectible-communication",
   "metadata": {},
   "source": [
    "### Metrics"
   ]
  },
  {
   "cell_type": "markdown",
   "id": "established-heating",
   "metadata": {},
   "source": [
    "This problem will be see as a regression problem, so the main metric calculated to evalute models is [MAE](https://en.wikipedia.org/wiki/Mean_absolute_error) (mean absolute error).\n",
    "For each trained model, the train data set will be splited in train and test set. The test set will be composed by 25% of the newest data and train set with the rest of data. \n",
    "\n",
    "Some stock models will be compared for 4 different target predictions days with a baseground date:\n",
    "- Next workday of baseground date\n",
    "- Next week of baseground date (approximated by next 5 workdays)\n",
    "- Next 2 weeks of baseground date (approximated by next 10 workdays)\n",
    "- Next month of base ground date (approximated by next 22 workdays)\n",
    "\n",
    "After calculated MAE for test set in this train and test approach, it will be used all training period to refit model and deploy this final model. Moreover, the fitted models can use other baseground date different from last day of train set. However, for distant days from train period the performance probably will decrease. \n",
    "\n",
    "Finally, to get some insights for future works, it will be visually analysed the shape of predicted price curve aganist real price curve."
   ]
  },
  {
   "cell_type": "markdown",
   "id": "horizontal-correspondence",
   "metadata": {},
   "source": [
    "## <a class=\"anchor\" id=\"Analysis\">Part 2 : Analysis</a>"
   ]
  },
  {
   "cell_type": "markdown",
   "id": "fuzzy-sewing",
   "metadata": {},
   "source": [
    "### Data Exploration and Visualization"
   ]
  },
  {
   "cell_type": "code",
   "execution_count": 4,
   "id": "elect-northwest",
   "metadata": {},
   "outputs": [],
   "source": [
    "# Function to read from yahooquery API and save it in db\n",
    "load_data = LoadData('data/Stocks.db')\n",
    "load_data.load()"
   ]
  },
  {
   "cell_type": "code",
   "execution_count": 5,
   "id": "chubby-texture",
   "metadata": {},
   "outputs": [],
   "source": [
    "# Read data from db in a dataframe\n",
    "engine = create_engine('sqlite:///data/Stocks.db')\n",
    "stocks_df = pd.read_sql_table('stocks', engine)"
   ]
  },
  {
   "cell_type": "code",
   "execution_count": 6,
   "id": "anonymous-pendant",
   "metadata": {},
   "outputs": [
    {
     "data": {
      "text/html": [
       "<div>\n",
       "<style scoped>\n",
       "    .dataframe tbody tr th:only-of-type {\n",
       "        vertical-align: middle;\n",
       "    }\n",
       "\n",
       "    .dataframe tbody tr th {\n",
       "        vertical-align: top;\n",
       "    }\n",
       "\n",
       "    .dataframe thead th {\n",
       "        text-align: right;\n",
       "    }\n",
       "</style>\n",
       "<table border=\"1\" class=\"dataframe\">\n",
       "  <thead>\n",
       "    <tr style=\"text-align: right;\">\n",
       "      <th></th>\n",
       "      <th>symbol</th>\n",
       "      <th>date</th>\n",
       "      <th>open</th>\n",
       "      <th>low</th>\n",
       "      <th>close</th>\n",
       "      <th>volume</th>\n",
       "      <th>high</th>\n",
       "      <th>adjclose</th>\n",
       "      <th>dividends</th>\n",
       "      <th>splits</th>\n",
       "    </tr>\n",
       "  </thead>\n",
       "  <tbody>\n",
       "    <tr>\n",
       "      <th>0</th>\n",
       "      <td>^BVSP</td>\n",
       "      <td>1993-04-27</td>\n",
       "      <td>24.799999</td>\n",
       "      <td>24.500000</td>\n",
       "      <td>24.500000</td>\n",
       "      <td>0.0</td>\n",
       "      <td>25.400000</td>\n",
       "      <td>24.500000</td>\n",
       "      <td>0.0</td>\n",
       "      <td>0.0</td>\n",
       "    </tr>\n",
       "    <tr>\n",
       "      <th>1</th>\n",
       "      <td>^BVSP</td>\n",
       "      <td>1993-04-28</td>\n",
       "      <td>24.500000</td>\n",
       "      <td>23.700001</td>\n",
       "      <td>24.299999</td>\n",
       "      <td>0.0</td>\n",
       "      <td>24.600000</td>\n",
       "      <td>24.299999</td>\n",
       "      <td>0.0</td>\n",
       "      <td>0.0</td>\n",
       "    </tr>\n",
       "    <tr>\n",
       "      <th>2</th>\n",
       "      <td>^BVSP</td>\n",
       "      <td>1993-04-29</td>\n",
       "      <td>24.299999</td>\n",
       "      <td>23.700001</td>\n",
       "      <td>23.700001</td>\n",
       "      <td>0.0</td>\n",
       "      <td>24.799999</td>\n",
       "      <td>23.700001</td>\n",
       "      <td>0.0</td>\n",
       "      <td>0.0</td>\n",
       "    </tr>\n",
       "  </tbody>\n",
       "</table>\n",
       "</div>"
      ],
      "text/plain": [
       "  symbol       date       open        low      close  volume       high  \\\n",
       "0  ^BVSP 1993-04-27  24.799999  24.500000  24.500000     0.0  25.400000   \n",
       "1  ^BVSP 1993-04-28  24.500000  23.700001  24.299999     0.0  24.600000   \n",
       "2  ^BVSP 1993-04-29  24.299999  23.700001  23.700001     0.0  24.799999   \n",
       "\n",
       "    adjclose  dividends  splits  \n",
       "0  24.500000        0.0     0.0  \n",
       "1  24.299999        0.0     0.0  \n",
       "2  23.700001        0.0     0.0  "
      ]
     },
     "execution_count": 6,
     "metadata": {},
     "output_type": "execute_result"
    }
   ],
   "source": [
    "stocks_df.head(3)"
   ]
  },
  {
   "cell_type": "markdown",
   "id": "amateur-success",
   "metadata": {},
   "source": [
    "Only some tickers were read from API. If this number would be increased, processing time was increased too with no gain in project development."
   ]
  },
  {
   "cell_type": "code",
   "execution_count": 7,
   "id": "guilty-integration",
   "metadata": {},
   "outputs": [
    {
     "data": {
      "text/plain": [
       "['^BVSP',\n",
       " 'ITSA4',\n",
       " 'MGLU3',\n",
       " 'VVAR3',\n",
       " 'WEGE3',\n",
       " 'MDIA3',\n",
       " 'LREN3',\n",
       " 'ITUB3',\n",
       " 'EGIE3']"
      ]
     },
     "execution_count": 7,
     "metadata": {},
     "output_type": "execute_result"
    }
   ],
   "source": [
    "# Stocks read from API\n",
    "stocks_df.symbol.unique().tolist()"
   ]
  },
  {
   "cell_type": "markdown",
   "id": "entertaining-olympus",
   "metadata": {},
   "source": [
    "^BVSP is a brazilian stock index of most valued companies. It will be a proxy for market oscilation, similiar of SP500 in EUA."
   ]
  },
  {
   "cell_type": "code",
   "execution_count": 8,
   "id": "champion-geometry",
   "metadata": {},
   "outputs": [
    {
     "data": {
      "text/plain": [
       "symbol       0\n",
       "date         0\n",
       "open         0\n",
       "low          0\n",
       "close        0\n",
       "volume       0\n",
       "high         0\n",
       "adjclose     0\n",
       "dividends    0\n",
       "splits       0\n",
       "dtype: int64"
      ]
     },
     "execution_count": 8,
     "metadata": {},
     "output_type": "execute_result"
    }
   ],
   "source": [
    "stocks_df.isnull().sum()"
   ]
  },
  {
   "cell_type": "markdown",
   "id": "fuzzy-devil",
   "metadata": {},
   "source": [
    "No nulls found"
   ]
  },
  {
   "cell_type": "code",
   "execution_count": 9,
   "id": "intellectual-monaco",
   "metadata": {},
   "outputs": [
    {
     "data": {
      "text/plain": [
       "symbol               object\n",
       "date         datetime64[ns]\n",
       "open                float64\n",
       "low                 float64\n",
       "close               float64\n",
       "volume              float64\n",
       "high                float64\n",
       "adjclose            float64\n",
       "dividends           float64\n",
       "splits              float64\n",
       "dtype: object"
      ]
     },
     "execution_count": 9,
     "metadata": {},
     "output_type": "execute_result"
    }
   ],
   "source": [
    "stocks_df.dtypes"
   ]
  },
  {
   "cell_type": "markdown",
   "id": "alone-distinction",
   "metadata": {},
   "source": [
    "Column types are ok"
   ]
  },
  {
   "cell_type": "markdown",
   "id": "indian-oliver",
   "metadata": {},
   "source": [
    "#### Columns description:"
   ]
  },
  {
   "cell_type": "markdown",
   "id": "absolute-launch",
   "metadata": {},
   "source": [
    "- **symbol**: Ticker of specific stock\n",
    "- **date**: Reference date\n",
    "- **close**: Close stock price in reference date\n",
    "- **high**: The highest stock price achived in reference date\n",
    "- **open**: Open stock price in reference date\n",
    "- **low**: The lowest stock price achived in reference date\n",
    "- **volume**: Volume of transactions of specific ticker in reference date \n",
    "- **adjclose**: Close stock price in reference date adjusted historically when events happened such as dividends, splits and price modificators.\n",
    "- **dividends**: Divideds payed per unit in reference date\n",
    "- **splits**: Modificator ratio in number of papers in reference date. Ex.: 10 units became 11, if splits were 1.1."
   ]
  },
  {
   "cell_type": "code",
   "execution_count": 10,
   "id": "sweet-chapel",
   "metadata": {},
   "outputs": [
    {
     "name": "stdout",
     "output_type": "stream",
     "text": [
      "The minimun date in dataset is: 1993-04-27\n",
      "And this data is read every run time from API, so maximun date is 2021-02-12.\n"
     ]
    }
   ],
   "source": [
    "min_date = stocks_df.date.min().date()\n",
    "max_date = stocks_df.date.max().date()\n",
    "\n",
    "print(f'The minimun date in dataset is: {min_date}')\n",
    "print(f'And this data is read every run time from API, so maximun date is {max_date}.')"
   ]
  },
  {
   "cell_type": "code",
   "execution_count": 11,
   "id": "mounted-livestock",
   "metadata": {},
   "outputs": [],
   "source": [
    "# An auxiliar function to make some plots\n",
    "def plot_series(df, symbol, col_date, col_value, y_label):\n",
    "    ''' Plot a time series.\n",
    "    \n",
    "    params:\n",
    "    df (dataframe): Input dataframe\n",
    "    symbol (string): Specific ticker for a stock in df\n",
    "    col_date (string): Column name with date value\n",
    "    col_value (string): Columns name with numeric value\n",
    "    y_label (string): Label to y axis.\n",
    "    '''\n",
    "    data = df.copy()\n",
    "    data.set_index(col_date, inplace=True)\n",
    "    data = data[data.symbol == symbol][col_value]\n",
    "    ax = data.plot()\n",
    "    ax.set_title(symbol + ' '+ col_value)\n",
    "    ax.set_ylabel(y_label)"
   ]
  },
  {
   "cell_type": "code",
   "execution_count": 12,
   "id": "guided-shark",
   "metadata": {},
   "outputs": [
    {
     "data": {
      "image/png": "[encoded data removed]",
      "text/plain": [
       "<Figure size 432x288 with 1 Axes>"
      ]
     },
     "metadata": {
      "needs_background": "light"
     },
     "output_type": "display_data"
    }
   ],
   "source": [
    "plot_series(stocks_df, 'ITSA4', 'date', 'adjclose', 'Price (R$)')"
   ]
  },
  {
   "cell_type": "markdown",
   "id": "infectious-acting",
   "metadata": {},
   "source": [
    "For ITSA4, the price range arrives R$ 14 (Brazilian currency) and we have data since 2000."
   ]
  },
  {
   "cell_type": "code",
   "execution_count": 13,
   "id": "functioning-above",
   "metadata": {},
   "outputs": [
    {
     "data": {
      "image/png": "[encoded data removed]",
      "text/plain": [
       "<Figure size 432x288 with 1 Axes>"
      ]
     },
     "metadata": {
      "needs_background": "light"
     },
     "output_type": "display_data"
    }
   ],
   "source": [
    "plot_series(stocks_df, 'MGLU3', 'date', 'adjclose', 'Price (R$)')"
   ]
  },
  {
   "cell_type": "markdown",
   "id": "sporting-suicide",
   "metadata": {},
   "source": [
    "For MGLU3, the price range arrives R$ 27 and we have data since 2011."
   ]
  },
  {
   "cell_type": "code",
   "execution_count": 14,
   "id": "current-sponsorship",
   "metadata": {},
   "outputs": [
    {
     "data": {
      "image/png": "[encoded data removed]",
      "text/plain": [
       "<Figure size 432x288 with 1 Axes>"
      ]
     },
     "metadata": {
      "needs_background": "light"
     },
     "output_type": "display_data"
    }
   ],
   "source": [
    "plot_series(stocks_df, 'EGIE3', 'date', 'adjclose', 'Price (R$)')"
   ]
  },
  {
   "cell_type": "markdown",
   "id": "strategic-given",
   "metadata": {},
   "source": [
    "For EGIE3, the price range arrives R$ 51 and we have data since 2002."
   ]
  },
  {
   "cell_type": "markdown",
   "id": "strategic-community",
   "metadata": {},
   "source": [
    "Both stocks have different behaviors, price ranges and historic data over the time. However, they were a good invest choice up to now due to their exponential shape. "
   ]
  },
  {
   "cell_type": "code",
   "execution_count": 15,
   "id": "russian-landing",
   "metadata": {},
   "outputs": [
    {
     "data": {
      "image/png": "[encoded data removed]",
      "text/plain": [
       "<Figure size 432x288 with 1 Axes>"
      ]
     },
     "metadata": {
      "needs_background": "light"
     },
     "output_type": "display_data"
    }
   ],
   "source": [
    "plot_series(stocks_df, '^BVSP', 'date', 'adjclose', 'Market points')"
   ]
  },
  {
   "cell_type": "markdown",
   "id": "purple-consumer",
   "metadata": {},
   "source": [
    "Market index increased a lot over the time too."
   ]
  },
  {
   "cell_type": "markdown",
   "id": "secret-liverpool",
   "metadata": {},
   "source": [
    "For this project only symbol, date and adjclose were used, based in Technical analysis. Therefore, it was not necessary an extensive exploratory analysis for input data. The main effort will be in feature engineering."
   ]
  },
  {
   "cell_type": "markdown",
   "id": "verified-grill",
   "metadata": {},
   "source": [
    "## <a class=\"anchor\" id=\"Methodology\">Part 3 : Methodology</a>"
   ]
  },
  {
   "cell_type": "markdown",
   "id": "wooden-holly",
   "metadata": {},
   "source": [
    "### Initial setups"
   ]
  },
  {
   "cell_type": "markdown",
   "id": "indonesian-yield",
   "metadata": {},
   "source": [
    "For modeling process, it was defined arbitrarily some parameters:\n",
    "\n",
    "- Period of 01/Aug/2020 to 30/Nov/2020 as training period. This period was chosen to have future data not used in train to evaluate performance without any problems. Moreover, training period should be recent.\n",
    "- Tickers: \n",
    "    - ITSA4 - Itau holding(biggest private bank in Latin America)\n",
    "    - MGLU3 - Magazine Luiza (one of the biggest retail company in Brazil)\n",
    "    - EGIE3 - private company in energy sector\n",
    "    \n",
    "- Targets:\n",
    "    - next workday\n",
    "    - next week\n",
    "    - next 2 weeks\n",
    "    - next month\n",
    "\n",
    "Obs. dataset has only days which market opened, so the approximation for 1 month is to read next 22 datapoints (workdays).\n",
    "\n",
    "- Forecast date: A ground date to be used to predict next n days according to the target option.\n",
    "\n",
    "Ex.: forecast_date set to 2020-12-01 and target set to 1_day, the prediction will be to 2020-12-02. If for the same target option forecast_date is set to 2020-12-11, the prediction will be for 2020-12-14 (next workday). "
   ]
  },
  {
   "cell_type": "code",
   "execution_count": 16,
   "id": "scheduled-frederick",
   "metadata": {},
   "outputs": [],
   "source": [
    "# Initial setups\n",
    "start_date = pd.to_datetime('2020-08-01')\n",
    "end_date = pd.to_datetime('2020-11-30')\n",
    "train_range_days = (end_date - start_date).days\n",
    "\n",
    "symbols = ['ITSA4', 'MGLU3', 'EGIE3']\n",
    "\n",
    "targets_dict = {'1_day': 1,\n",
    "                '1_week': 5,\n",
    "                '2_weeks': 10,\n",
    "                '1_month': 22}\n",
    "\n",
    "forecast_date = pd.to_datetime('2020-12-01')\n",
    "\n",
    "# path to save pickle models\n",
    "models_path = 'models/models.pkl'"
   ]
  },
  {
   "cell_type": "markdown",
   "id": "multiple-couple",
   "metadata": {},
   "source": [
    "### Data Preprocessing"
   ]
  },
  {
   "cell_type": "markdown",
   "id": "bright-maria",
   "metadata": {},
   "source": [
    "Based on course \"Machine Learning for Trading\", Tucker Balch (Georgia Tech and Udacity), \n",
    "some technical indicators were created as features. It was used `ITSA4` ticker as example to\n",
    "explain each feature built in this process."
   ]
  },
  {
   "cell_type": "markdown",
   "id": "tight-replication",
   "metadata": {},
   "source": [
    "TrainModel is a class to prepare data, train models and calculate results. For more details, check docstrings. "
   ]
  },
  {
   "cell_type": "code",
   "execution_count": 17,
   "id": "acceptable-netherlands",
   "metadata": {},
   "outputs": [],
   "source": [
    "train_model = TrainModel(stocks_df, symbols, start_date, end_date, models_path, targets_dict)"
   ]
  },
  {
   "cell_type": "markdown",
   "id": "educational-shepherd",
   "metadata": {},
   "source": [
    "The method `prep_historical_date` gets all days between start_date and end_date, and add more 180 workdays before and 45 workdays after this period. These aditional days are used to be possible calculate a future target date in the end of the data series and to create features with a big past window date in beginning of the series. "
   ]
  },
  {
   "cell_type": "code",
   "execution_count": 18,
   "id": "acute-landing",
   "metadata": {},
   "outputs": [],
   "source": [
    "# Prepare a dataframe with aditional days to be used in feature engineering for ITSA\n",
    "itsa4, ibov = TrainModel.prep_historical_data(stocks_df, 'ITSA4', start_date, end_date)"
   ]
  },
  {
   "cell_type": "markdown",
   "id": "super-terrorism",
   "metadata": {},
   "source": [
    "#### Explaining each feature"
   ]
  },
  {
   "cell_type": "markdown",
   "id": "outdoor-cooler",
   "metadata": {},
   "source": [
    "##### Daily return"
   ]
  },
  {
   "cell_type": "markdown",
   "id": "eastern-motorcycle",
   "metadata": {},
   "source": [
    "The method `calculate_n_day_return` calculate the difference of price between data reference as index in a row and n workdays before it. To calculate daily oscilation, just use parameter window=1."
   ]
  },
  {
   "cell_type": "code",
   "execution_count": 19,
   "id": "remarkable-federal",
   "metadata": {},
   "outputs": [],
   "source": [
    "# Calculate daily return in percentage\n",
    "itsa4_daily_return = calculate_n_day_return(itsa4, window=1)"
   ]
  },
  {
   "cell_type": "code",
   "execution_count": 20,
   "id": "stable-acquisition",
   "metadata": {},
   "outputs": [
    {
     "data": {
      "image/png": "[encoded data removed]",
      "text/plain": [
       "<Figure size 432x288 with 1 Axes>"
      ]
     },
     "metadata": {
      "needs_background": "light"
     },
     "output_type": "display_data"
    }
   ],
   "source": [
    "ax = itsa4_daily_return.plot()\n",
    "ax.set_title(\"ITSA4 daily return\")\n",
    "_ = ax.set_ylabel(\"Daily return (%)\")"
   ]
  },
  {
   "cell_type": "markdown",
   "id": "handmade-samba",
   "metadata": {},
   "source": [
    "This plot shows that the biggest and lowest daily returns in ITSA4 for train period happened in the beginning of COVID-19 quantine in Brazil (end of march/2020). In these days, price changed 10% in a single day."
   ]
  },
  {
   "cell_type": "markdown",
   "id": "phantom-portsmouth",
   "metadata": {},
   "source": [
    "#### CAPM"
   ]
  },
  {
   "cell_type": "markdown",
   "id": "unlike-trade",
   "metadata": {},
   "source": [
    "CAPM equations: $stockprice = \\beta * marketprice + \\alpha$"
   ]
  },
  {
   "cell_type": "markdown",
   "id": "alike-bridal",
   "metadata": {},
   "source": [
    "Beta is an indicator which decribes how a specific stock is correlated with the market.\n",
    "Alpha is an offset between stockprice and market after beta variation, it usually is zero."
   ]
  },
  {
   "cell_type": "code",
   "execution_count": 21,
   "id": "drawn-tumor",
   "metadata": {},
   "outputs": [],
   "source": [
    "# Just picking up a arbitrary window=30 as example\n",
    "capm_df = calculate_capm(itsa4, ibov, window=30)\n",
    "\n",
    "beta = capm_df.loc[forecast_date].beta"
   ]
  },
  {
   "cell_type": "code",
   "execution_count": 22,
   "id": "binding-account",
   "metadata": {},
   "outputs": [
    {
     "name": "stdout",
     "output_type": "stream",
     "text": [
      "Beta for data reference 2020-12-01 00:00:00, using 30 points to calculate line coefs is 0.63\n"
     ]
    }
   ],
   "source": [
    "print(f'Beta for data reference {forecast_date}, using 30 points to calculate line coefs is {round(beta, 2)}')"
   ]
  },
  {
   "cell_type": "markdown",
   "id": "strong-hartford",
   "metadata": {},
   "source": [
    "Beta is 0.63. Therefore, if ibovespa index (good proxy for brazilian market increases 100% tomorrow, ITSA4 will increases 63%)."
   ]
  },
  {
   "cell_type": "markdown",
   "id": "opening-pocket",
   "metadata": {},
   "source": [
    "#### Simple Moving Average (SMA)"
   ]
  },
  {
   "cell_type": "markdown",
   "id": "hydraulic-teddy",
   "metadata": {},
   "source": [
    "SMA is mean average of adjclose price looking a window of days."
   ]
  },
  {
   "cell_type": "code",
   "execution_count": 23,
   "id": "instructional-lounge",
   "metadata": {},
   "outputs": [
    {
     "data": {
      "image/png": "[encoded data removed]",
      "text/plain": [
       "<Figure size 432x288 with 1 Axes>"
      ]
     },
     "metadata": {
      "needs_background": "light"
     },
     "output_type": "display_data"
    }
   ],
   "source": [
    "# Just picking up a arbitrary window=30 as example\n",
    "ax = calculate_sma(itsa4, window=30).plot()\n",
    "ax.set_title(\"ITSA4 SMA\")\n",
    "_ = ax.set_ylabel(\"SMA (%)\")"
   ]
  },
  {
   "cell_type": "markdown",
   "id": "ecological-circular",
   "metadata": {},
   "source": [
    "How larger the window is, more smooth the series becomes. There are not all 30 point to calculate average in the oldest days, it is the reason this curve is flat in the beginning. However, aditional 180 days before `start_date` was included in this series to be cut after features creation. "
   ]
  },
  {
   "cell_type": "markdown",
   "id": "brutal-indonesian",
   "metadata": {},
   "source": [
    "#### Exponential Moving Average (EMA)"
   ]
  },
  {
   "cell_type": "markdown",
   "id": "twenty-gender",
   "metadata": {},
   "source": [
    "EMA is similar to SMA, but recent dates have more weight than old dates in the window."
   ]
  },
  {
   "cell_type": "code",
   "execution_count": 24,
   "id": "negative-entrepreneur",
   "metadata": {},
   "outputs": [
    {
     "data": {
      "image/png": "[encoded data removed]",
      "text/plain": [
       "<Figure size 432x288 with 1 Axes>"
      ]
     },
     "metadata": {
      "needs_background": "light"
     },
     "output_type": "display_data"
    }
   ],
   "source": [
    "# Just picking up a arbitrary window=30 as example\n",
    "ax = calculate_ema(itsa4, window=30).plot()\n",
    "ax.set_title(\"ITSA4 EMA\")\n",
    "_ = ax.set_ylabel(\"EMA (%)\")"
   ]
  },
  {
   "cell_type": "markdown",
   "id": "native-microwave",
   "metadata": {},
   "source": [
    "Same consideration of SMA, but it gets faster variations in price due to greater weights in newest data."
   ]
  },
  {
   "cell_type": "markdown",
   "id": "municipal-institution",
   "metadata": {},
   "source": [
    "#### Momentum"
   ]
  },
  {
   "cell_type": "markdown",
   "id": "drawn-africa",
   "metadata": {},
   "source": [
    "Momentum is the ratio of `forecast_price` and some day before. It gives a feeling of price's direction trend. "
   ]
  },
  {
   "cell_type": "code",
   "execution_count": 25,
   "id": "demonstrated-criterion",
   "metadata": {},
   "outputs": [
    {
     "data": {
      "text/plain": [
       "-0.04"
      ]
     },
     "execution_count": 25,
     "metadata": {},
     "output_type": "execute_result"
    }
   ],
   "source": [
    "# Just picking up a arbitrary window=7 as example\n",
    "round(calculate_momentum(itsa4, window=7).loc[forecast_date], 2)"
   ]
  },
  {
   "cell_type": "markdown",
   "id": "circular-netscape",
   "metadata": {},
   "source": [
    "In `forecast_date` momentum indicates almost no moving in prices."
   ]
  },
  {
   "cell_type": "markdown",
   "id": "personal-lying",
   "metadata": {},
   "source": [
    "#### Volatility"
   ]
  },
  {
   "cell_type": "markdown",
   "id": "analyzed-picnic",
   "metadata": {},
   "source": [
    "Volatility is the standard deviation in a window of days. In stock market, this is associated with risk. How more volatile the market is, greater the risk."
   ]
  },
  {
   "cell_type": "code",
   "execution_count": 26,
   "id": "tutorial-announcement",
   "metadata": {},
   "outputs": [
    {
     "data": {
      "image/png": "[encoded data removed]",
      "text/plain": [
       "<Figure size 432x288 with 1 Axes>"
      ]
     },
     "metadata": {
      "needs_background": "light"
     },
     "output_type": "display_data"
    }
   ],
   "source": [
    "calculate_volatility(itsa4, window=30).plot()\n",
    "ax.set_title(\"ITSA4 Volatility\")\n",
    "_ = ax.set_ylabel(\"Volatility\")"
   ]
  },
  {
   "cell_type": "markdown",
   "id": "retained-millennium",
   "metadata": {},
   "source": [
    "In this plot is possible to observe market response with high oscilation due to beginning of Covid-19's quarantine in Brazil (end of march 2020)."
   ]
  },
  {
   "cell_type": "markdown",
   "id": "thick-charm",
   "metadata": {},
   "source": [
    "#### Defining windows parameters"
   ]
  },
  {
   "cell_type": "markdown",
   "id": "endless-photographer",
   "metadata": {},
   "source": [
    "To create `vars_df` dataframe with calculated features were chosen some windows for each indicator based in practical knowledges:\n",
    "\n",
    "- https://www.investopedia.com/terms/s/sma.asp\n",
    "- https://www.investopedia.com/terms/e/ema.asp\n",
    "\n",
    "Obs. consecutive days transformed to work days.\n",
    "\n",
    "Other windows are created arbitrarily and some indicator were combined. \n",
    "\n",
    "Example of combined indicator: `sma_momentum_36` - it is SMA of momentum series with windows 36 work days before `forecast_date`.\n",
    "\n",
    "Ticker (ITSA) feature is the last price that we have information for prediction, it was used as a feature too."
   ]
  },
  {
   "cell_type": "markdown",
   "id": "injured-medicine",
   "metadata": {},
   "source": [
    "#### List of features:\n",
    "- SMA stock price for last 7, 14, 36, 73 and 146 workdays\n",
    "- Momentum stock price for last 36 workdays\n",
    "- SMA Momentum for last 7, 36 and 73 workdays (momentum fixed in 36)\n",
    "- SMA ^BVSP for last 73 workdays\n",
    "- Volatility stock price for last 73 workdays\n",
    "- Volatility ^BVSP for last 73 workdays\n",
    "- Beta between stock price and ^BVSP for last 73 workdays\n",
    "- EMA stock price for last 7, 14, 36, 73 and 146 workdays\n",
    "- Last stock price"
   ]
  },
  {
   "cell_type": "markdown",
   "id": "southern-pierce",
   "metadata": {},
   "source": [
    "#### Target creation"
   ]
  },
  {
   "cell_type": "markdown",
   "id": "judicial-ticket",
   "metadata": {},
   "source": [
    "For target creation, it was slid back n rows of `adjclose price` in ordered date time series according target option:\n",
    "- `1_day` - slide 1 row\n",
    "- `1_week` - slide 5 rows\n",
    "- `2_weeks` - slide 10 rows\n",
    "- `1_month` - slide 22 rows "
   ]
  },
  {
   "cell_type": "markdown",
   "id": "indoor-treasury",
   "metadata": {},
   "source": [
    "#### Final dataframe with features and targets"
   ]
  },
  {
   "cell_type": "markdown",
   "id": "optimum-wonder",
   "metadata": {},
   "source": [
    "`prep_modeling_data` receives clean adjclose price from itsa4 and ibov and create all features that we need. If `target_flag` is True, it will create targets too."
   ]
  },
  {
   "cell_type": "code",
   "execution_count": 27,
   "id": "occupational-attack",
   "metadata": {},
   "outputs": [],
   "source": [
    "# Encapsulate function to create features dataframe and drop aditional period apart from start and end date range\n",
    "itsa4_vars_df = TrainModel.prep_modeling_data(itsa4, ibov, targets_dict, start_date, end_date, target_flag=True)"
   ]
  },
  {
   "cell_type": "code",
   "execution_count": 28,
   "id": "wrong-bookmark",
   "metadata": {},
   "outputs": [
    {
     "data": {
      "text/html": [
       "<div>\n",
       "<style scoped>\n",
       "    .dataframe tbody tr th:only-of-type {\n",
       "        vertical-align: middle;\n",
       "    }\n",
       "\n",
       "    .dataframe tbody tr th {\n",
       "        vertical-align: top;\n",
       "    }\n",
       "\n",
       "    .dataframe thead th {\n",
       "        text-align: right;\n",
       "    }\n",
       "</style>\n",
       "<table border=\"1\" class=\"dataframe\">\n",
       "  <thead>\n",
       "    <tr style=\"text-align: right;\">\n",
       "      <th></th>\n",
       "      <th>sma_ITSA4_7</th>\n",
       "      <th>sma_ITSA4_14</th>\n",
       "      <th>sma_ITSA4_36</th>\n",
       "      <th>sma_ITSA4_73</th>\n",
       "      <th>sma_ITSA4_146</th>\n",
       "      <th>sma_momentum_7</th>\n",
       "      <th>sma_momentum_36</th>\n",
       "      <th>sma_momentum_73</th>\n",
       "      <th>sma_^BVSP_73</th>\n",
       "      <th>volatility_^BVSP</th>\n",
       "      <th>...</th>\n",
       "      <th>ema_ITSA4_7</th>\n",
       "      <th>ema_ITSA4_14</th>\n",
       "      <th>ema_ITSA4_36</th>\n",
       "      <th>ema_ITSA4_73</th>\n",
       "      <th>ema_ITSA4_146</th>\n",
       "      <th>ITSA4</th>\n",
       "      <th>target_1_day</th>\n",
       "      <th>target_1_week</th>\n",
       "      <th>target_2_weeks</th>\n",
       "      <th>target_1_month</th>\n",
       "    </tr>\n",
       "    <tr>\n",
       "      <th>date</th>\n",
       "      <th></th>\n",
       "      <th></th>\n",
       "      <th></th>\n",
       "      <th></th>\n",
       "      <th></th>\n",
       "      <th></th>\n",
       "      <th></th>\n",
       "      <th></th>\n",
       "      <th></th>\n",
       "      <th></th>\n",
       "      <th></th>\n",
       "      <th></th>\n",
       "      <th></th>\n",
       "      <th></th>\n",
       "      <th></th>\n",
       "      <th></th>\n",
       "      <th></th>\n",
       "      <th></th>\n",
       "      <th></th>\n",
       "      <th></th>\n",
       "      <th></th>\n",
       "    </tr>\n",
       "  </thead>\n",
       "  <tbody>\n",
       "    <tr>\n",
       "      <th>2020-08-03</th>\n",
       "      <td>-0.011352</td>\n",
       "      <td>0.010251</td>\n",
       "      <td>0.046369</td>\n",
       "      <td>0.115538</td>\n",
       "      <td>0.0</td>\n",
       "      <td>0.121951</td>\n",
       "      <td>2.642979</td>\n",
       "      <td>-7.213103</td>\n",
       "      <td>0.123375</td>\n",
       "      <td>9262.239827</td>\n",
       "      <td>...</td>\n",
       "      <td>-0.008416</td>\n",
       "      <td>-0.006497</td>\n",
       "      <td>-0.006295</td>\n",
       "      <td>-0.006295</td>\n",
       "      <td>-0.006295</td>\n",
       "      <td>10.499140</td>\n",
       "      <td>10.018339</td>\n",
       "      <td>10.165523</td>\n",
       "      <td>9.449225</td>\n",
       "      <td>9.469027</td>\n",
       "    </tr>\n",
       "    <tr>\n",
       "      <th>2020-08-04</th>\n",
       "      <td>-0.053628</td>\n",
       "      <td>-0.035623</td>\n",
       "      <td>-0.003308</td>\n",
       "      <td>0.062541</td>\n",
       "      <td>0.0</td>\n",
       "      <td>-0.335315</td>\n",
       "      <td>0.981540</td>\n",
       "      <td>-5.031986</td>\n",
       "      <td>0.102074</td>\n",
       "      <td>9208.903455</td>\n",
       "      <td>...</td>\n",
       "      <td>-0.036086</td>\n",
       "      <td>-0.035267</td>\n",
       "      <td>-0.035141</td>\n",
       "      <td>-0.035141</td>\n",
       "      <td>-0.035141</td>\n",
       "      <td>10.018339</td>\n",
       "      <td>10.008525</td>\n",
       "      <td>10.008525</td>\n",
       "      <td>9.636048</td>\n",
       "      <td>9.666503</td>\n",
       "    </tr>\n",
       "    <tr>\n",
       "      <th>2020-08-05</th>\n",
       "      <td>-0.044177</td>\n",
       "      <td>-0.036892</td>\n",
       "      <td>-0.005471</td>\n",
       "      <td>0.059596</td>\n",
       "      <td>0.0</td>\n",
       "      <td>-0.303025</td>\n",
       "      <td>0.846613</td>\n",
       "      <td>-5.408202</td>\n",
       "      <td>0.115663</td>\n",
       "      <td>9200.616996</td>\n",
       "      <td>...</td>\n",
       "      <td>-0.023409</td>\n",
       "      <td>-0.024442</td>\n",
       "      <td>-0.024350</td>\n",
       "      <td>-0.024350</td>\n",
       "      <td>-0.024350</td>\n",
       "      <td>10.008525</td>\n",
       "      <td>10.126274</td>\n",
       "      <td>9.920216</td>\n",
       "      <td>9.567217</td>\n",
       "      <td>9.646756</td>\n",
       "    </tr>\n",
       "    <tr>\n",
       "      <th>2020-08-06</th>\n",
       "      <td>-0.025627</td>\n",
       "      <td>-0.025890</td>\n",
       "      <td>0.005168</td>\n",
       "      <td>0.069779</td>\n",
       "      <td>0.0</td>\n",
       "      <td>-0.175943</td>\n",
       "      <td>0.989120</td>\n",
       "      <td>-6.780680</td>\n",
       "      <td>0.125939</td>\n",
       "      <td>9185.385496</td>\n",
       "      <td>...</td>\n",
       "      <td>-0.006870</td>\n",
       "      <td>-0.008686</td>\n",
       "      <td>-0.008618</td>\n",
       "      <td>-0.008618</td>\n",
       "      <td>-0.008618</td>\n",
       "      <td>10.126274</td>\n",
       "      <td>10.018339</td>\n",
       "      <td>9.674907</td>\n",
       "      <td>9.508223</td>\n",
       "      <td>9.518396</td>\n",
       "    </tr>\n",
       "    <tr>\n",
       "      <th>2020-08-07</th>\n",
       "      <td>-0.023900</td>\n",
       "      <td>-0.034906</td>\n",
       "      <td>-0.005439</td>\n",
       "      <td>0.055634</td>\n",
       "      <td>0.0</td>\n",
       "      <td>-0.074646</td>\n",
       "      <td>0.975432</td>\n",
       "      <td>-8.300813</td>\n",
       "      <td>0.106841</td>\n",
       "      <td>9034.175204</td>\n",
       "      <td>...</td>\n",
       "      <td>-0.009878</td>\n",
       "      <td>-0.012895</td>\n",
       "      <td>-0.012872</td>\n",
       "      <td>-0.012872</td>\n",
       "      <td>-0.012872</td>\n",
       "      <td>10.018339</td>\n",
       "      <td>10.165523</td>\n",
       "      <td>9.743596</td>\n",
       "      <td>9.567217</td>\n",
       "      <td>9.557892</td>\n",
       "    </tr>\n",
       "  </tbody>\n",
       "</table>\n",
       "<p>5 rows × 22 columns</p>\n",
       "</div>"
      ],
      "text/plain": [
       "            sma_ITSA4_7  sma_ITSA4_14  sma_ITSA4_36  sma_ITSA4_73  \\\n",
       "date                                                                \n",
       "2020-08-03    -0.011352      0.010251      0.046369      0.115538   \n",
       "2020-08-04    -0.053628     -0.035623     -0.003308      0.062541   \n",
       "2020-08-05    -0.044177     -0.036892     -0.005471      0.059596   \n",
       "2020-08-06    -0.025627     -0.025890      0.005168      0.069779   \n",
       "2020-08-07    -0.023900     -0.034906     -0.005439      0.055634   \n",
       "\n",
       "            sma_ITSA4_146  sma_momentum_7  sma_momentum_36  sma_momentum_73  \\\n",
       "date                                                                          \n",
       "2020-08-03            0.0        0.121951         2.642979        -7.213103   \n",
       "2020-08-04            0.0       -0.335315         0.981540        -5.031986   \n",
       "2020-08-05            0.0       -0.303025         0.846613        -5.408202   \n",
       "2020-08-06            0.0       -0.175943         0.989120        -6.780680   \n",
       "2020-08-07            0.0       -0.074646         0.975432        -8.300813   \n",
       "\n",
       "            sma_^BVSP_73  volatility_^BVSP  ...  ema_ITSA4_7  ema_ITSA4_14  \\\n",
       "date                                        ...                              \n",
       "2020-08-03      0.123375       9262.239827  ...    -0.008416     -0.006497   \n",
       "2020-08-04      0.102074       9208.903455  ...    -0.036086     -0.035267   \n",
       "2020-08-05      0.115663       9200.616996  ...    -0.023409     -0.024442   \n",
       "2020-08-06      0.125939       9185.385496  ...    -0.006870     -0.008686   \n",
       "2020-08-07      0.106841       9034.175204  ...    -0.009878     -0.012895   \n",
       "\n",
       "            ema_ITSA4_36  ema_ITSA4_73  ema_ITSA4_146      ITSA4  \\\n",
       "date                                                               \n",
       "2020-08-03     -0.006295     -0.006295      -0.006295  10.499140   \n",
       "2020-08-04     -0.035141     -0.035141      -0.035141  10.018339   \n",
       "2020-08-05     -0.024350     -0.024350      -0.024350  10.008525   \n",
       "2020-08-06     -0.008618     -0.008618      -0.008618  10.126274   \n",
       "2020-08-07     -0.012872     -0.012872      -0.012872  10.018339   \n",
       "\n",
       "            target_1_day  target_1_week  target_2_weeks  target_1_month  \n",
       "date                                                                     \n",
       "2020-08-03     10.018339      10.165523        9.449225        9.469027  \n",
       "2020-08-04     10.008525      10.008525        9.636048        9.666503  \n",
       "2020-08-05     10.126274       9.920216        9.567217        9.646756  \n",
       "2020-08-06     10.018339       9.674907        9.508223        9.518396  \n",
       "2020-08-07     10.165523       9.743596        9.567217        9.557892  \n",
       "\n",
       "[5 rows x 22 columns]"
      ]
     },
     "execution_count": 28,
     "metadata": {},
     "output_type": "execute_result"
    }
   ],
   "source": [
    "itsa4_vars_df.head()"
   ]
  },
  {
   "cell_type": "markdown",
   "id": "descending-deputy",
   "metadata": {},
   "source": [
    "### Implementation"
   ]
  },
  {
   "cell_type": "markdown",
   "id": "amended-sitting",
   "metadata": {},
   "source": [
    "They are tested 3 types of models: Linear regression, random forest and neural net. Both using sklearn package. Standard scaler was used as default to normalize all features, but in random forest it does not have any effect. pipeline structure to keep it easy and organized."
   ]
  },
  {
   "cell_type": "markdown",
   "id": "interracial-barrier",
   "metadata": {},
   "source": [
    "#### Models"
   ]
  },
  {
   "cell_type": "code",
   "execution_count": 29,
   "id": "confident-machine",
   "metadata": {},
   "outputs": [],
   "source": [
    "def tunning_params(vars_df, rsearch):\n",
    "    '''\n",
    "    \n",
    "    \n",
    "    '''\n",
    "    tunning_results = dict()\n",
    "\n",
    "    for target_period in ['1_day', '1_week', '2_weeks', '1_month']:\n",
    "        X, y, X_train, X_test, y_train, y_test = TrainModel.train_test_split(\n",
    "                            vars_df,\n",
    "                            target_period,\n",
    "                            test_size_ratio=0.25)\n",
    "\n",
    "        rsearch.fit(X_train, y_train)\n",
    "        tunning_results[target_period] = [round(rsearch.cv_results_['mean_train_score'].mean() * (-1), 2),\n",
    "                               round(rsearch.cv_results_['mean_test_score'].mean() * (-1), 2),\n",
    "                               rsearch.best_estimator_]\n",
    "\n",
    "    return tunning_results"
   ]
  },
  {
   "cell_type": "markdown",
   "id": "remarkable-friendly",
   "metadata": {},
   "source": [
    "##### Linear Regression"
   ]
  },
  {
   "cell_type": "markdown",
   "id": "molecular-review",
   "metadata": {},
   "source": [
    "Linear regression was used as a baseline to start improving the solution. This model does not have specific params for each target period."
   ]
  },
  {
   "cell_type": "code",
   "execution_count": 31,
   "id": "coastal-suspect",
   "metadata": {},
   "outputs": [],
   "source": [
    "lr = LinearRegression()\n",
    "base_pipeline_lr = make_pipeline(StandardScaler(), lr)\n",
    "manual_pipeline_lr = defaultdict(lambda: base_pipeline_lr)\n",
    "\n",
    "# Just a copy of manual_lr\n",
    "pipeline_lr = manual_pipeline_lr.copy()"
   ]
  },
  {
   "cell_type": "markdown",
   "id": "identified-frame",
   "metadata": {},
   "source": [
    "##### Random Forest"
   ]
  },
  {
   "cell_type": "markdown",
   "id": "suspended-lender",
   "metadata": {},
   "source": [
    "Random Forest was set up with few estimatores. It was tested manually parameters changed, and MAE does not decrease if is increased the number of estimators."
   ]
  },
  {
   "cell_type": "code",
   "execution_count": 32,
   "id": "collaborative-preview",
   "metadata": {},
   "outputs": [],
   "source": [
    "manual_rf = RandomForestRegressor(random_state=0, criterion = 'mae', n_estimators=1000)\n",
    "\n",
    "# Any target period request returns same model setup\n",
    "manual_pipeline_rf = defaultdict(lambda: make_pipeline(StandardScaler(), rf))"
   ]
  },
  {
   "cell_type": "code",
   "execution_count": 33,
   "id": "known-imaging",
   "metadata": {},
   "outputs": [],
   "source": [
    "rf = RandomForestRegressor(random_state=0, criterion = 'mae')\n",
    "base_pipeline_rf = make_pipeline(StandardScaler(), rf)"
   ]
  },
  {
   "cell_type": "code",
   "execution_count": 34,
   "id": "valued-environment",
   "metadata": {},
   "outputs": [],
   "source": [
    "param_search_rf = {'randomforestregressor__n_estimators': range(100, 2000, 100),\n",
    "           'randomforestregressor__max_depth': [3, 4, 5, 6, 8 ,10, 12, 15] + [None],\n",
    "           'randomforestregressor__max_features': ['auto', 'sqrt'],\n",
    "           'randomforestregressor__min_samples_leaf': [1, 2, 4],\n",
    "           'randomforestregressor__min_samples_split': [2, 5, 10]\n",
    "            }\n",
    "\n",
    "tscv = TimeSeriesSplit(n_splits=2)\n",
    "\n",
    "rsearch_rf = RandomizedSearchCV(n_iter=100,\n",
    "    estimator=base_pipeline_rf, cv=tscv,\n",
    "    param_distributions=param_search_rf, scoring='neg_mean_absolute_error',\n",
    "    random_state=0, return_train_score=True)"
   ]
  },
  {
   "cell_type": "code",
   "execution_count": 35,
   "id": "steady-disney",
   "metadata": {},
   "outputs": [],
   "source": [
    "## This cell takes some time, it is random search for random forest\n",
    "# tunning_rf = tunning_params(itsa4_vars_df, rsearch_rf)\n",
    "# tunning_rf"
   ]
  },
  {
   "cell_type": "code",
   "execution_count": 36,
   "id": "behind-sacramento",
   "metadata": {},
   "outputs": [],
   "source": [
    "pipeline_rf = {\n",
    "'1_day': make_pipeline(StandardScaler(),\n",
    "    RandomForestRegressor(criterion='mae', max_depth=5,\n",
    "                                         min_samples_leaf=2, n_estimators=500,\n",
    "                                         random_state=0)),\n",
    " \n",
    "'1_week': make_pipeline(StandardScaler(),\n",
    "     RandomForestRegressor(criterion='mae', max_depth=4,\n",
    "                                         max_features='sqrt', min_samples_leaf=2,\n",
    "                                         random_state=0)),\n",
    " \n",
    "'2_weeks': make_pipeline(StandardScaler(),\n",
    "    RandomForestRegressor(criterion='mae', max_depth=10,\n",
    "                                         n_estimators=1700, random_state=0)),\n",
    " \n",
    "'1_month': make_pipeline(StandardScaler(),\n",
    "    RandomForestRegressor(criterion='mae', max_depth=5,\n",
    "                                         min_samples_leaf=2, min_samples_split=10,\n",
    "                                         random_state=0))\n",
    "}"
   ]
  },
  {
   "cell_type": "markdown",
   "id": "improving-portuguese",
   "metadata": {},
   "source": [
    "##### Neural Net"
   ]
  },
  {
   "cell_type": "markdown",
   "id": "aerial-reliance",
   "metadata": {},
   "source": [
    "Neural net was used with a small architecture, some variations were tested manually. If it is increased network architecture, it starts to overfit. `early_stopping` was set to True to help avoid overfitting. It had a good performance in specific cases."
   ]
  },
  {
   "cell_type": "code",
   "execution_count": 37,
   "id": "found-implement",
   "metadata": {},
   "outputs": [],
   "source": [
    "manual_neural_net = MLPRegressor(hidden_layer_sizes=(50, 50), activation='tanh', solver='adam',\n",
    "    random_state=0, alpha=10, learning_rate='constant', max_iter=10**5,\n",
    "    shuffle=False, early_stopping=True)\n",
    "\n",
    "# Any target period request returns same model setup\n",
    "manual_pipeline_neuralnet = defaultdict(lambda: make_pipeline(StandardScaler(), manual_neural_net))"
   ]
  },
  {
   "cell_type": "code",
   "execution_count": 38,
   "id": "plain-scale",
   "metadata": {},
   "outputs": [],
   "source": [
    "neural_net = MLPRegressor(random_state=0, shuffle=False, early_stopping=True, max_iter=10**5)\n",
    "base_pipeline_neuralnet = make_pipeline(StandardScaler(), neural_net)"
   ]
  },
  {
   "cell_type": "code",
   "execution_count": 39,
   "id": "provincial-ballet",
   "metadata": {},
   "outputs": [],
   "source": [
    "param_search_neuralnet = {'mlpregressor__hidden_layer_sizes':[(10), (50), (100), (200),\n",
    "                                                               (50, 50), (100, 100), (200, 200)],\n",
    "'mlpregressor__activation': ['tanh','relu'],\n",
    "'mlpregressor__solver': ['lbfgs', 'sgd', 'adam'],\n",
    "'mlpregressor__learning_rate': ['constant', 'invscaling', 'adaptive'],\n",
    "'mlpregressor__alpha': [0.01, 0.1, 1, 10, 100]                    \n",
    "}\n",
    "\n",
    "tscv = TimeSeriesSplit(n_splits=2)\n",
    "\n",
    "rsearch_neuralnet = RandomizedSearchCV(n_iter=100,\n",
    "    estimator=base_pipeline_neuralnet, cv=tscv, scoring='neg_mean_absolute_error',\n",
    "    param_distributions=param_search_neuralnet, \n",
    "    random_state=0, return_train_score=True, verbose=3, n_jobs=5)"
   ]
  },
  {
   "cell_type": "code",
   "execution_count": 40,
   "id": "cultural-logan",
   "metadata": {},
   "outputs": [],
   "source": [
    "## This cell takes some time, it is random search for neural net\n",
    "# tunning_neuralnet = tunning_params(itsa4_vars_df, rsearch_neuralnet)\n",
    "# tunning_neuralnet"
   ]
  },
  {
   "cell_type": "code",
   "execution_count": 41,
   "id": "younger-prefix",
   "metadata": {},
   "outputs": [],
   "source": [
    "pipeline_neuralnet = {\n",
    "'1_day': make_pipeline(StandardScaler(),\n",
    "    MLPRegressor(alpha=1, early_stopping=True,\n",
    "    hidden_layer_sizes=(200, 200),\n",
    "    learning_rate='adaptive', max_iter=100000,\n",
    "    random_state=0, shuffle=False, solver='lbfgs')),\n",
    "\n",
    "'1_week': make_pipeline(StandardScaler(),\n",
    "    MLPRegressor(activation='tanh', alpha=100, early_stopping=True,\n",
    "    hidden_layer_sizes=50, max_iter=100000,\n",
    "    random_state=0, shuffle=False)),\n",
    "\n",
    "'2_weeks': make_pipeline(StandardScaler(),\n",
    "    MLPRegressor(activation='tanh', alpha=0.1, early_stopping=True,\n",
    "    hidden_layer_sizes=50, learning_rate='invscaling',\n",
    "    max_iter=100000, random_state=0, shuffle=False,\n",
    "    solver='lbfgs')),\n",
    "\n",
    "'1_month': make_pipeline(StandardScaler(), \n",
    "    MLPRegressor(activation='tanh', alpha=10, early_stopping=True,\n",
    "    hidden_layer_sizes=(50, 50), max_iter=100000,\n",
    "    random_state=0, shuffle=False, solver='lbfgs'))\n",
    "}"
   ]
  },
  {
   "cell_type": "code",
   "execution_count": 42,
   "id": "affected-momentum",
   "metadata": {},
   "outputs": [],
   "source": [
    "# encapsulating pipelines for evaluation with hyper param tunning by random search \n",
    "pipelines = {'lr': pipeline_lr,\n",
    "             'rf': pipeline_rf,\n",
    "             'neural_net': pipeline_neuralnet}"
   ]
  },
  {
   "cell_type": "code",
   "execution_count": 43,
   "id": "fitted-flower",
   "metadata": {},
   "outputs": [],
   "source": [
    "# encapsulating pipelines for evaluation with hyper param tunning manualy\n",
    "manual_pipelines = {'lr': manual_pipeline_lr,\n",
    "             'rf': manual_pipeline_rf,\n",
    "             'neural_net': manual_pipeline_neuralnet}"
   ]
  },
  {
   "cell_type": "markdown",
   "id": "pleasant-count",
   "metadata": {},
   "source": [
    "### Refinement"
   ]
  },
  {
   "cell_type": "markdown",
   "id": "promising-mandate",
   "metadata": {},
   "source": [
    "#### Dataprep\n",
    "The process of building new features were long and iterative. It was necessary to go back to theoretical concepts, review function implementations and evalute results a few times. There are a lot of python package for diverse uses. However, in this case due to window days context, it was necessary to code these functions.\n",
    "\n",
    "#### Modeling initial solution\n",
    "\n",
    "For modeling step, the initial solution was linear regression but it does not fit well in time series with a lot of oscillation. It showed a lot of overfitting in test evaluations.\n",
    "\n",
    "#### Modeling intermediate solution\n",
    "\n",
    "In an intermediate solution, it was tested random forest and artificial neural network. For hyperparameter tuning, it was fixed target in `1_month` for ITSA4 stock and iterated params manualy. The premise is choosing a robust model configuration that will perform well after being properly trained (specific target and historical data), for different periods and stocks.\n",
    "\n",
    "For random forest, it was focused in:\n",
    "- n_estimators - it is the number of trees to vote in final prediction. If this parameter increases, it may increase model complexity, and so overfit risk. The error did not change after 1000 estimators, therefore it was chosen n_estimators equals 1000 to keep model complexity as low as possible with same error.\n",
    "- max_depth - this is another param to control model complexity. It sets a maximum number of division in each tree. The tests did not show an improvement in changing this param from None.\n",
    "\n",
    "For Neural network, `shuffle`, `max_iter`, `early_stopping` and `learning_rate` params were kept fixed and others were changed to test. It is not desirable that data be shuffled because in a time series problem, it would cause likely leakage of future data. `max_iter` is max iterations to fit model. If until then it does not converge, the training is stopped. And `early_stopping` is the process of stopping training if model starts to overfit (MAE test starts to increase). Finally, `learning_rate` can choose if iterations steps change over time or keep constant, for simplification it was kept constant.\n",
    "\n",
    "The parameters that have been varied are:\n",
    "- hidden_layer_sizes - network architecture (number of neurons and layers). This params is difficult to know. Small architecture were tested with 1 or 2 hidden layers and less than 200 neurons in each layer.\n",
    "- activation - activation function in internal layers. It was choosen hyperbolic tangent because logistic is not so good for it. In logistic function some values are flattened to zero. Therefore, `tanh` was picked due to popular use of data scientists. \n",
    "- solver - the right optimizer increases chances the model to converge and the speed up the process. `Adam` is really popular and it was arbitrarily choosen.\n",
    "- alpha - the l2 regularization helps to avoid overfitting. If it increases, it creates more constraints for model parameters possibilities and keeps model complexity lower. It was tested values with big steps such as 0.01, 0.1, 1, 10, 100, because small changes in this parameter does not make much effect.\n",
    "\n",
    "#### Modeling final solution\n",
    "\n",
    "As an improvement of intermediate solution, it was set one model per target period. So now, they are 4 models to find best hyperparms. Using ITSA4, it was used a random search technique which randomly chooses n hyperparam configurations to test from stipulated ranges. In random search cross-validation, it was used `TimeSeriesSplit`, it only uses data that came before validation set to avoid data leakage.\n",
    "\n",
    "For random forest, params ranges are:\n",
    "- n_estimators: range(100, 2000, 100). This param was tested with a small step.\n",
    "- max_depth: [3, 4, 5, 6, 8 ,10, 12, 15] + [None]. This param was tested with more options.\n",
    "- max_features': ['auto', 'sqrt']. This parameter limits number of features used to build trees. In `vars_df` there are many features correlated because it was only changed window param to create them. Using `sqrt` option can help to fix this effect.\n",
    "- min_samples_leaf': [1, 2, 4]. It is a constraint to let at least n samples in a leaf. It helps to avoid overtif because it does not let model becomes too specific.\n",
    "- min_samples_split: [2, 5, 10] It helps to avoid overfit too. This params only allows a node to split up if it has at least n samples.\n",
    "\n",
    "For neural network, params ranges are:\n",
    "- hidden_layer_sizes:[(10), (50), (100), (200), (50, 50), (100, 100), (200, 200)] This param was tested with more options.\n",
    "- activation: ['tanh','relu']. `Relu` was included in possibilities. It has a popular use too.\n",
    "- solver: ['lbfgs', 'sgd', 'adam']. Other types of otimizer were included. `sgd` is the basic option. There is a note in [sklearn documentation](https://scikit-learn.org/stable/modules/generated/sklearn.neural_network.MLPRegressor.html) that `adam` works well for large datasets and for small datasets `lbfgs` can be better, so `lbfgs` was included too.\n",
    "- learning_rate: ['constant', 'invscaling', 'adaptive']. In addition to the constant parameter, it was tested news learning rate options. `invscaling` keeps decreasing learning rate over time. And `adaptive` keeps learning rate constant up to it stops to decrease training error, then it decreases learning rate.  \n",
    "- alpha: [0.01, 0.1, 1, 10, 100]. Same values were tested.    \n"
   ]
  },
  {
   "cell_type": "markdown",
   "id": "martial-gathering",
   "metadata": {},
   "source": [
    "## <a class=\"anchor\" id=\"Results\">Part 4 : Results</a>"
   ]
  },
  {
   "cell_type": "markdown",
   "id": "official-atlantic",
   "metadata": {},
   "source": [
    "### Model Evaluation and Validation"
   ]
  },
  {
   "cell_type": "markdown",
   "id": "mathematical-endorsement",
   "metadata": {},
   "source": [
    "#### ITSA4"
   ]
  },
  {
   "cell_type": "markdown",
   "id": "classified-latex",
   "metadata": {},
   "source": [
    "- Hyper param manual config"
   ]
  },
  {
   "cell_type": "code",
   "execution_count": 44,
   "id": "coordinated-religious",
   "metadata": {},
   "outputs": [
    {
     "data": {
      "text/html": [
       "<div>\n",
       "<style scoped>\n",
       "    .dataframe tbody tr th:only-of-type {\n",
       "        vertical-align: middle;\n",
       "    }\n",
       "\n",
       "    .dataframe tbody tr th {\n",
       "        vertical-align: top;\n",
       "    }\n",
       "\n",
       "    .dataframe thead th {\n",
       "        text-align: right;\n",
       "    }\n",
       "</style>\n",
       "<table border=\"1\" class=\"dataframe\">\n",
       "  <thead>\n",
       "    <tr style=\"text-align: right;\">\n",
       "      <th>target</th>\n",
       "      <th>1_day</th>\n",
       "      <th>1_week</th>\n",
       "      <th>2_weeks</th>\n",
       "      <th>1_month</th>\n",
       "    </tr>\n",
       "  </thead>\n",
       "  <tbody>\n",
       "    <tr>\n",
       "      <th>lr</th>\n",
       "      <td>0.710812</td>\n",
       "      <td>2.96192</td>\n",
       "      <td>1.48595</td>\n",
       "      <td>1.79119</td>\n",
       "    </tr>\n",
       "    <tr>\n",
       "      <th>rf</th>\n",
       "      <td>0.761721</td>\n",
       "      <td>1.43431</td>\n",
       "      <td>1.24456</td>\n",
       "      <td>1.55333</td>\n",
       "    </tr>\n",
       "    <tr>\n",
       "      <th>neural_net</th>\n",
       "      <td>0.509756</td>\n",
       "      <td>1.22557</td>\n",
       "      <td>1.06636</td>\n",
       "      <td>0.706233</td>\n",
       "    </tr>\n",
       "  </tbody>\n",
       "</table>\n",
       "</div>"
      ],
      "text/plain": [
       "target         1_day   1_week  2_weeks   1_month\n",
       "lr          0.710812  2.96192  1.48595   1.79119\n",
       "rf          0.761721  1.43431  1.24456   1.55333\n",
       "neural_net  0.509756  1.22557  1.06636  0.706233"
      ]
     },
     "execution_count": 44,
     "metadata": {},
     "output_type": "execute_result"
    }
   ],
   "source": [
    "# Calculate MAE result of test set for ITSA4 using manual param config\n",
    "itsa4_manual_result = TrainModel.calculate_results(itsa4_vars_df, targets_dict, manual_pipelines)\n",
    "itsa4_manual_result"
   ]
  },
  {
   "cell_type": "code",
   "execution_count": 45,
   "id": "medium-replica",
   "metadata": {},
   "outputs": [],
   "source": [
    "# Calculate mean of each model family for manual setup\n",
    "itsa4_manual_comp = itsa4_manual_result.mean(axis=1).rename('manual_conf')"
   ]
  },
  {
   "cell_type": "markdown",
   "id": "australian-korea",
   "metadata": {},
   "source": [
    "- Hyper param Random search config"
   ]
  },
  {
   "cell_type": "code",
   "execution_count": 46,
   "id": "apparent-pontiac",
   "metadata": {},
   "outputs": [
    {
     "data": {
      "text/html": [
       "<div>\n",
       "<style scoped>\n",
       "    .dataframe tbody tr th:only-of-type {\n",
       "        vertical-align: middle;\n",
       "    }\n",
       "\n",
       "    .dataframe tbody tr th {\n",
       "        vertical-align: top;\n",
       "    }\n",
       "\n",
       "    .dataframe thead th {\n",
       "        text-align: right;\n",
       "    }\n",
       "</style>\n",
       "<table border=\"1\" class=\"dataframe\">\n",
       "  <thead>\n",
       "    <tr style=\"text-align: right;\">\n",
       "      <th>target</th>\n",
       "      <th>1_day</th>\n",
       "      <th>1_week</th>\n",
       "      <th>2_weeks</th>\n",
       "      <th>1_month</th>\n",
       "    </tr>\n",
       "  </thead>\n",
       "  <tbody>\n",
       "    <tr>\n",
       "      <th>lr</th>\n",
       "      <td>0.710812</td>\n",
       "      <td>2.96192</td>\n",
       "      <td>1.48595</td>\n",
       "      <td>1.79119</td>\n",
       "    </tr>\n",
       "    <tr>\n",
       "      <th>rf</th>\n",
       "      <td>0.761804</td>\n",
       "      <td>1.36251</td>\n",
       "      <td>1.23362</td>\n",
       "      <td>1.49368</td>\n",
       "    </tr>\n",
       "    <tr>\n",
       "      <th>neural_net</th>\n",
       "      <td>0.355578</td>\n",
       "      <td>1.51673</td>\n",
       "      <td>0.676592</td>\n",
       "      <td>0.700528</td>\n",
       "    </tr>\n",
       "  </tbody>\n",
       "</table>\n",
       "</div>"
      ],
      "text/plain": [
       "target         1_day   1_week   2_weeks   1_month\n",
       "lr          0.710812  2.96192   1.48595   1.79119\n",
       "rf          0.761804  1.36251   1.23362   1.49368\n",
       "neural_net  0.355578  1.51673  0.676592  0.700528"
      ]
     },
     "execution_count": 46,
     "metadata": {},
     "output_type": "execute_result"
    }
   ],
   "source": [
    "# Calculate MAE result of test set for ITSA4 using random search param config\n",
    "itsa4_result = TrainModel.calculate_results(itsa4_vars_df, targets_dict, pipelines)\n",
    "itsa4_result"
   ]
  },
  {
   "cell_type": "code",
   "execution_count": 47,
   "id": "technological-liberty",
   "metadata": {},
   "outputs": [],
   "source": [
    "# Calculate mean of each model family for random search setup\n",
    "itsa4_comp = itsa4_result.mean(axis=1).rename('random_search_conf')"
   ]
  },
  {
   "cell_type": "markdown",
   "id": "automotive-universe",
   "metadata": {},
   "source": [
    "- Result comparison"
   ]
  },
  {
   "cell_type": "code",
   "execution_count": 48,
   "id": "advised-residence",
   "metadata": {},
   "outputs": [
    {
     "data": {
      "text/html": [
       "<div>\n",
       "<style scoped>\n",
       "    .dataframe tbody tr th:only-of-type {\n",
       "        vertical-align: middle;\n",
       "    }\n",
       "\n",
       "    .dataframe tbody tr th {\n",
       "        vertical-align: top;\n",
       "    }\n",
       "\n",
       "    .dataframe thead th {\n",
       "        text-align: right;\n",
       "    }\n",
       "</style>\n",
       "<table border=\"1\" class=\"dataframe\">\n",
       "  <thead>\n",
       "    <tr style=\"text-align: right;\">\n",
       "      <th></th>\n",
       "      <th>manual_conf</th>\n",
       "      <th>random_search_conf</th>\n",
       "    </tr>\n",
       "  </thead>\n",
       "  <tbody>\n",
       "    <tr>\n",
       "      <th>lr</th>\n",
       "      <td>1.74</td>\n",
       "      <td>1.74</td>\n",
       "    </tr>\n",
       "    <tr>\n",
       "      <th>rf</th>\n",
       "      <td>1.25</td>\n",
       "      <td>1.21</td>\n",
       "    </tr>\n",
       "    <tr>\n",
       "      <th>neural_net</th>\n",
       "      <td>0.88</td>\n",
       "      <td>0.81</td>\n",
       "    </tr>\n",
       "  </tbody>\n",
       "</table>\n",
       "</div>"
      ],
      "text/plain": [
       "            manual_conf  random_search_conf\n",
       "lr                 1.74                1.74\n",
       "rf                 1.25                1.21\n",
       "neural_net         0.88                0.81"
      ]
     },
     "execution_count": 48,
     "metadata": {},
     "output_type": "execute_result"
    }
   ],
   "source": [
    "# Mean of MAE test for all target periods\n",
    "round(pd.concat([itsa4_manual_comp, itsa4_comp], axis=1), 2)"
   ]
  },
  {
   "cell_type": "markdown",
   "id": "through-harbor",
   "metadata": {},
   "source": [
    "First, for ITSA4 linear regression as first solution had a MAE test error of 1.74.\n",
    "\n",
    "Second, after implementing intermediate solution random forest achived MAE of 1.25(28% lower) and neural net 0.88(50% lower).\n",
    "\n",
    "Finally, after running random search for both models, random forest achived MAE of 1.21(5% lower than last solution) and neural net 0.81(8% lower than last solution). For ITSA4, neural net with random search optimization had a better performance and best improvement was changing model in intermediate step."
   ]
  },
  {
   "cell_type": "markdown",
   "id": "neither-independence",
   "metadata": {},
   "source": [
    "#### MGLU3"
   ]
  },
  {
   "cell_type": "code",
   "execution_count": 49,
   "id": "persistent-basement",
   "metadata": {},
   "outputs": [],
   "source": [
    "# Prep features for MGLU3\n",
    "mglu3, ibov = TrainModel.prep_historical_data(stocks_df, 'MGLU3', start_date, end_date)\n",
    "vars_mglu3_df = TrainModel.prep_modeling_data(mglu3, ibov, targets_dict, start_date, end_date, True)"
   ]
  },
  {
   "cell_type": "markdown",
   "id": "former-screening",
   "metadata": {},
   "source": [
    "- Hyper param manual config"
   ]
  },
  {
   "cell_type": "code",
   "execution_count": 50,
   "id": "powerful-blake",
   "metadata": {},
   "outputs": [
    {
     "data": {
      "text/html": [
       "<div>\n",
       "<style scoped>\n",
       "    .dataframe tbody tr th:only-of-type {\n",
       "        vertical-align: middle;\n",
       "    }\n",
       "\n",
       "    .dataframe tbody tr th {\n",
       "        vertical-align: top;\n",
       "    }\n",
       "\n",
       "    .dataframe thead th {\n",
       "        text-align: right;\n",
       "    }\n",
       "</style>\n",
       "<table border=\"1\" class=\"dataframe\">\n",
       "  <thead>\n",
       "    <tr style=\"text-align: right;\">\n",
       "      <th>target</th>\n",
       "      <th>1_day</th>\n",
       "      <th>1_week</th>\n",
       "      <th>2_weeks</th>\n",
       "      <th>1_month</th>\n",
       "    </tr>\n",
       "  </thead>\n",
       "  <tbody>\n",
       "    <tr>\n",
       "      <th>lr</th>\n",
       "      <td>25.2759</td>\n",
       "      <td>24.5517</td>\n",
       "      <td>24.3108</td>\n",
       "      <td>6.28074</td>\n",
       "    </tr>\n",
       "    <tr>\n",
       "      <th>rf</th>\n",
       "      <td>0.701569</td>\n",
       "      <td>1.04322</td>\n",
       "      <td>0.883468</td>\n",
       "      <td>0.491688</td>\n",
       "    </tr>\n",
       "    <tr>\n",
       "      <th>neural_net</th>\n",
       "      <td>1.93093</td>\n",
       "      <td>1.58102</td>\n",
       "      <td>1.60405</td>\n",
       "      <td>1.8777</td>\n",
       "    </tr>\n",
       "  </tbody>\n",
       "</table>\n",
       "</div>"
      ],
      "text/plain": [
       "target         1_day   1_week   2_weeks   1_month\n",
       "lr           25.2759  24.5517   24.3108   6.28074\n",
       "rf          0.701569  1.04322  0.883468  0.491688\n",
       "neural_net   1.93093  1.58102   1.60405    1.8777"
      ]
     },
     "execution_count": 50,
     "metadata": {},
     "output_type": "execute_result"
    }
   ],
   "source": [
    "# Calculate MAE result of test set for MGLU3 using manual param config\n",
    "mglu3_manual_result = TrainModel.calculate_results(vars_mglu3_df, targets_dict, manual_pipelines)\n",
    "mglu3_manual_result"
   ]
  },
  {
   "cell_type": "code",
   "execution_count": 51,
   "id": "suspended-excess",
   "metadata": {},
   "outputs": [],
   "source": [
    "# Calculate mean of each model family for manual setup\n",
    "mglu3_manual_comp = mglu3_manual_result.mean(axis=1).rename('manual_conf')"
   ]
  },
  {
   "cell_type": "markdown",
   "id": "resistant-musical",
   "metadata": {},
   "source": [
    "- Hyper param Random search config"
   ]
  },
  {
   "cell_type": "code",
   "execution_count": 52,
   "id": "legendary-rabbit",
   "metadata": {},
   "outputs": [
    {
     "data": {
      "text/html": [
       "<div>\n",
       "<style scoped>\n",
       "    .dataframe tbody tr th:only-of-type {\n",
       "        vertical-align: middle;\n",
       "    }\n",
       "\n",
       "    .dataframe tbody tr th {\n",
       "        vertical-align: top;\n",
       "    }\n",
       "\n",
       "    .dataframe thead th {\n",
       "        text-align: right;\n",
       "    }\n",
       "</style>\n",
       "<table border=\"1\" class=\"dataframe\">\n",
       "  <thead>\n",
       "    <tr style=\"text-align: right;\">\n",
       "      <th>target</th>\n",
       "      <th>1_day</th>\n",
       "      <th>1_week</th>\n",
       "      <th>2_weeks</th>\n",
       "      <th>1_month</th>\n",
       "    </tr>\n",
       "  </thead>\n",
       "  <tbody>\n",
       "    <tr>\n",
       "      <th>lr</th>\n",
       "      <td>25.2759</td>\n",
       "      <td>24.5517</td>\n",
       "      <td>24.3108</td>\n",
       "      <td>6.28074</td>\n",
       "    </tr>\n",
       "    <tr>\n",
       "      <th>rf</th>\n",
       "      <td>0.883022</td>\n",
       "      <td>0.504693</td>\n",
       "      <td>0.870027</td>\n",
       "      <td>0.5447</td>\n",
       "    </tr>\n",
       "    <tr>\n",
       "      <th>neural_net</th>\n",
       "      <td>1.51588</td>\n",
       "      <td>24.2715</td>\n",
       "      <td>1.35619</td>\n",
       "      <td>0.555453</td>\n",
       "    </tr>\n",
       "  </tbody>\n",
       "</table>\n",
       "</div>"
      ],
      "text/plain": [
       "target         1_day    1_week   2_weeks   1_month\n",
       "lr           25.2759   24.5517   24.3108   6.28074\n",
       "rf          0.883022  0.504693  0.870027    0.5447\n",
       "neural_net   1.51588   24.2715   1.35619  0.555453"
      ]
     },
     "execution_count": 52,
     "metadata": {},
     "output_type": "execute_result"
    }
   ],
   "source": [
    "# Calculate MAE result of test set for MGLU3 using random search param config\n",
    "mglu3_result = TrainModel.calculate_results(vars_mglu3_df, targets_dict, pipelines)\n",
    "mglu3_result"
   ]
  },
  {
   "cell_type": "code",
   "execution_count": 53,
   "id": "tutorial-flower",
   "metadata": {},
   "outputs": [],
   "source": [
    "# Calculate mean of each model family for random search setup\n",
    "mglu3_comp = mglu3_result.mean(axis=1).rename('random_search_conf')"
   ]
  },
  {
   "cell_type": "markdown",
   "id": "national-volleyball",
   "metadata": {},
   "source": [
    "- Result comparison"
   ]
  },
  {
   "cell_type": "code",
   "execution_count": 54,
   "id": "speaking-garden",
   "metadata": {},
   "outputs": [
    {
     "data": {
      "text/html": [
       "<div>\n",
       "<style scoped>\n",
       "    .dataframe tbody tr th:only-of-type {\n",
       "        vertical-align: middle;\n",
       "    }\n",
       "\n",
       "    .dataframe tbody tr th {\n",
       "        vertical-align: top;\n",
       "    }\n",
       "\n",
       "    .dataframe thead th {\n",
       "        text-align: right;\n",
       "    }\n",
       "</style>\n",
       "<table border=\"1\" class=\"dataframe\">\n",
       "  <thead>\n",
       "    <tr style=\"text-align: right;\">\n",
       "      <th></th>\n",
       "      <th>manual_conf</th>\n",
       "      <th>random_search_conf</th>\n",
       "    </tr>\n",
       "  </thead>\n",
       "  <tbody>\n",
       "    <tr>\n",
       "      <th>lr</th>\n",
       "      <td>20.10</td>\n",
       "      <td>20.10</td>\n",
       "    </tr>\n",
       "    <tr>\n",
       "      <th>rf</th>\n",
       "      <td>0.78</td>\n",
       "      <td>0.70</td>\n",
       "    </tr>\n",
       "    <tr>\n",
       "      <th>neural_net</th>\n",
       "      <td>1.75</td>\n",
       "      <td>6.92</td>\n",
       "    </tr>\n",
       "  </tbody>\n",
       "</table>\n",
       "</div>"
      ],
      "text/plain": [
       "            manual_conf  random_search_conf\n",
       "lr                20.10               20.10\n",
       "rf                 0.78                0.70\n",
       "neural_net         1.75                6.92"
      ]
     },
     "execution_count": 54,
     "metadata": {},
     "output_type": "execute_result"
    }
   ],
   "source": [
    "round(pd.concat([mglu3_manual_comp, mglu3_comp], axis=1), 2)"
   ]
  },
  {
   "cell_type": "markdown",
   "id": "handed-plaza",
   "metadata": {},
   "source": [
    "First, For MGLU3 linear regression as first solution had a MAE test error of 20.1. It overfitted a lot.\n",
    "\n",
    "Second, after implementing intermediate solution random forest achived MAE of 0.78(96% lower) and neural net 1.75(91% lower).\n",
    "\n",
    "Finally, after running random search for both models, random forest achived MAE of 0.7(10% lower than last solution) and neural net 6.92(74% higher than last solution). Neural net for this improvement overfitted too. For MGLU3, random forest with random search optimization had a better performance. Random search optimization showed a marginal gain compared to model change."
   ]
  },
  {
   "cell_type": "markdown",
   "id": "chinese-documentary",
   "metadata": {},
   "source": [
    "#### EGIE3"
   ]
  },
  {
   "cell_type": "code",
   "execution_count": 55,
   "id": "equipped-credits",
   "metadata": {},
   "outputs": [],
   "source": [
    "# Prep features for EGIE3\n",
    "egie3, ibov = TrainModel.prep_historical_data(stocks_df, 'EGIE3', start_date, end_date)\n",
    "vars_egie3_df = TrainModel.prep_modeling_data(egie3, ibov, targets_dict, start_date, end_date, True)"
   ]
  },
  {
   "cell_type": "markdown",
   "id": "acting-bikini",
   "metadata": {},
   "source": [
    "- Hyper param manual config"
   ]
  },
  {
   "cell_type": "code",
   "execution_count": 56,
   "id": "velvet-excuse",
   "metadata": {},
   "outputs": [
    {
     "data": {
      "text/html": [
       "<div>\n",
       "<style scoped>\n",
       "    .dataframe tbody tr th:only-of-type {\n",
       "        vertical-align: middle;\n",
       "    }\n",
       "\n",
       "    .dataframe tbody tr th {\n",
       "        vertical-align: top;\n",
       "    }\n",
       "\n",
       "    .dataframe thead th {\n",
       "        text-align: right;\n",
       "    }\n",
       "</style>\n",
       "<table border=\"1\" class=\"dataframe\">\n",
       "  <thead>\n",
       "    <tr style=\"text-align: right;\">\n",
       "      <th>target</th>\n",
       "      <th>1_day</th>\n",
       "      <th>1_week</th>\n",
       "      <th>2_weeks</th>\n",
       "      <th>1_month</th>\n",
       "    </tr>\n",
       "  </thead>\n",
       "  <tbody>\n",
       "    <tr>\n",
       "      <th>lr</th>\n",
       "      <td>1.69305</td>\n",
       "      <td>10.1717</td>\n",
       "      <td>5.58798</td>\n",
       "      <td>6.81806</td>\n",
       "    </tr>\n",
       "    <tr>\n",
       "      <th>rf</th>\n",
       "      <td>0.828375</td>\n",
       "      <td>0.683651</td>\n",
       "      <td>0.906837</td>\n",
       "      <td>2.32513</td>\n",
       "    </tr>\n",
       "    <tr>\n",
       "      <th>neural_net</th>\n",
       "      <td>13.6179</td>\n",
       "      <td>13.6655</td>\n",
       "      <td>13.4215</td>\n",
       "      <td>14.3928</td>\n",
       "    </tr>\n",
       "  </tbody>\n",
       "</table>\n",
       "</div>"
      ],
      "text/plain": [
       "target         1_day    1_week   2_weeks  1_month\n",
       "lr           1.69305   10.1717   5.58798  6.81806\n",
       "rf          0.828375  0.683651  0.906837  2.32513\n",
       "neural_net   13.6179   13.6655   13.4215  14.3928"
      ]
     },
     "execution_count": 56,
     "metadata": {},
     "output_type": "execute_result"
    }
   ],
   "source": [
    "# Calculate MAE result of test set for EGIE3 using manual param config\n",
    "egie3_manual_result = TrainModel.calculate_results(vars_egie3_df, targets_dict, manual_pipelines)\n",
    "egie3_manual_result"
   ]
  },
  {
   "cell_type": "code",
   "execution_count": 57,
   "id": "variable-indian",
   "metadata": {},
   "outputs": [],
   "source": [
    "# Calculate mean of each model family for manual setup\n",
    "egie3_manual_comp = egie3_manual_result.mean(axis=1).rename('manual_conf')"
   ]
  },
  {
   "cell_type": "markdown",
   "id": "funded-curtis",
   "metadata": {},
   "source": [
    "- Hyper param Random search config"
   ]
  },
  {
   "cell_type": "code",
   "execution_count": 58,
   "id": "imperial-wallet",
   "metadata": {},
   "outputs": [
    {
     "data": {
      "text/html": [
       "<div>\n",
       "<style scoped>\n",
       "    .dataframe tbody tr th:only-of-type {\n",
       "        vertical-align: middle;\n",
       "    }\n",
       "\n",
       "    .dataframe tbody tr th {\n",
       "        vertical-align: top;\n",
       "    }\n",
       "\n",
       "    .dataframe thead th {\n",
       "        text-align: right;\n",
       "    }\n",
       "</style>\n",
       "<table border=\"1\" class=\"dataframe\">\n",
       "  <thead>\n",
       "    <tr style=\"text-align: right;\">\n",
       "      <th>target</th>\n",
       "      <th>1_day</th>\n",
       "      <th>1_week</th>\n",
       "      <th>2_weeks</th>\n",
       "      <th>1_month</th>\n",
       "    </tr>\n",
       "  </thead>\n",
       "  <tbody>\n",
       "    <tr>\n",
       "      <th>lr</th>\n",
       "      <td>1.69305</td>\n",
       "      <td>10.1717</td>\n",
       "      <td>5.58798</td>\n",
       "      <td>6.81806</td>\n",
       "    </tr>\n",
       "    <tr>\n",
       "      <th>rf</th>\n",
       "      <td>0.673735</td>\n",
       "      <td>0.731331</td>\n",
       "      <td>0.89167</td>\n",
       "      <td>2.11636</td>\n",
       "    </tr>\n",
       "    <tr>\n",
       "      <th>neural_net</th>\n",
       "      <td>2.13548</td>\n",
       "      <td>2.34083</td>\n",
       "      <td>1.40039</td>\n",
       "      <td>2.23614</td>\n",
       "    </tr>\n",
       "  </tbody>\n",
       "</table>\n",
       "</div>"
      ],
      "text/plain": [
       "target         1_day    1_week  2_weeks  1_month\n",
       "lr           1.69305   10.1717  5.58798  6.81806\n",
       "rf          0.673735  0.731331  0.89167  2.11636\n",
       "neural_net   2.13548   2.34083  1.40039  2.23614"
      ]
     },
     "execution_count": 58,
     "metadata": {},
     "output_type": "execute_result"
    }
   ],
   "source": [
    "# Calculate MAE result of test set for EGIE3 using random search param config\n",
    "egie3_result = TrainModel.calculate_results(vars_egie3_df, targets_dict, pipelines)\n",
    "egie3_result"
   ]
  },
  {
   "cell_type": "code",
   "execution_count": 59,
   "id": "resistant-courtesy",
   "metadata": {},
   "outputs": [],
   "source": [
    "# Calculate mean of each model family for random search setup\n",
    "egie3_comp = egie3_result.mean(axis=1).rename('random_search_conf')"
   ]
  },
  {
   "cell_type": "markdown",
   "id": "headed-colombia",
   "metadata": {},
   "source": [
    "- Result comparison"
   ]
  },
  {
   "cell_type": "code",
   "execution_count": 60,
   "id": "incoming-characterization",
   "metadata": {},
   "outputs": [
    {
     "data": {
      "text/html": [
       "<div>\n",
       "<style scoped>\n",
       "    .dataframe tbody tr th:only-of-type {\n",
       "        vertical-align: middle;\n",
       "    }\n",
       "\n",
       "    .dataframe tbody tr th {\n",
       "        vertical-align: top;\n",
       "    }\n",
       "\n",
       "    .dataframe thead th {\n",
       "        text-align: right;\n",
       "    }\n",
       "</style>\n",
       "<table border=\"1\" class=\"dataframe\">\n",
       "  <thead>\n",
       "    <tr style=\"text-align: right;\">\n",
       "      <th></th>\n",
       "      <th>manual_conf</th>\n",
       "      <th>random_search_conf</th>\n",
       "    </tr>\n",
       "  </thead>\n",
       "  <tbody>\n",
       "    <tr>\n",
       "      <th>lr</th>\n",
       "      <td>6.07</td>\n",
       "      <td>6.07</td>\n",
       "    </tr>\n",
       "    <tr>\n",
       "      <th>rf</th>\n",
       "      <td>1.19</td>\n",
       "      <td>1.10</td>\n",
       "    </tr>\n",
       "    <tr>\n",
       "      <th>neural_net</th>\n",
       "      <td>13.77</td>\n",
       "      <td>2.03</td>\n",
       "    </tr>\n",
       "  </tbody>\n",
       "</table>\n",
       "</div>"
      ],
      "text/plain": [
       "            manual_conf  random_search_conf\n",
       "lr                 6.07                6.07\n",
       "rf                 1.19                1.10\n",
       "neural_net        13.77                2.03"
      ]
     },
     "execution_count": 60,
     "metadata": {},
     "output_type": "execute_result"
    }
   ],
   "source": [
    "round(pd.concat([egie3_manual_comp, egie3_comp], axis=1), 2)"
   ]
  },
  {
   "cell_type": "markdown",
   "id": "constant-myanmar",
   "metadata": {},
   "source": [
    "First, for EGIE3 linear regression as first solution had a MAE test error of 6.07. It is overfitted.\n",
    "\n",
    "Second, after implementing intermediate solution random forest achived MAE of 1.19(80% lower) and neural net 13.77(127% higher). Neural net is really overfitted for this solution.\n",
    "\n",
    "Finally, after running random search for both models, random forest achived MAE of 0.7(8% lower than last solution) and neural net 2.03(85% lower than last solution). Neural net for this improvement was not soo overfitted. For EGIE3, random forest with random search optimization had a better performance. It keeps a good performance in both scenarios."
   ]
  },
  {
   "cell_type": "markdown",
   "id": "solid-alignment",
   "metadata": {},
   "source": [
    "### Justification"
   ]
  },
  {
   "cell_type": "markdown",
   "id": "established-kitty",
   "metadata": {},
   "source": [
    "Linear regression looks too simple for this type of problem, it had the worst performance in both cases. Patterns changes a lot over time in this context and it is not a robust solution.\n",
    "\n",
    "The intermediate step of testing random forest and neural net showed the best delta of improvement, even hyperparameters were tunned manualy and only a model configuration was used for both target periods. Moreover, final step of tunning a model config for each target period showed a little improvement as a fine tunning.\n",
    "\n",
    "Neural net had a really good performance for specific cases such as ITSA4. If it was tunned a specific \n",
    "network architecture for each stock, probably it would have a better performance. However, this point indicates neural nets perform well in restrict contexts. But for stock price prediction, in same data series can vary widely in their patterns over time. For this reason, no further investigation was done using neural networks (multilayer perceptron approach).\n",
    "\n",
    "Random forest performs well in both cases and it was chosen as the best model due to its robustness. "
   ]
  },
  {
   "cell_type": "markdown",
   "id": "imperial-reducing",
   "metadata": {},
   "source": [
    "### Perceptions abount predicted curves shape"
   ]
  },
  {
   "cell_type": "markdown",
   "id": "satisfactory-wisconsin",
   "metadata": {},
   "source": [
    "Looking for some insights, it will be analyzed visually the model performance using random forest."
   ]
  },
  {
   "cell_type": "code",
   "execution_count": 61,
   "id": "amended-competition",
   "metadata": {},
   "outputs": [],
   "source": [
    "# Prepare a test set period to plot curves\n",
    "start_date_test = end_date + pd.DateOffset(days=1)\n",
    "end_date_test = stocks_df.date.max() - pd.DateOffset(days=35)"
   ]
  },
  {
   "cell_type": "code",
   "execution_count": 62,
   "id": "efficient-numbers",
   "metadata": {},
   "outputs": [
    {
     "name": "stdout",
     "output_type": "stream",
     "text": [
      "In test set: \n",
      "start_date is 2020-12-01\n",
      "test_date is 2021-01-08\n"
     ]
    }
   ],
   "source": [
    "print(f'In test set: \\nstart_date is {start_date_test.strftime(\"%Y-%m-%d\")}')\n",
    "print(f'test_date is {end_date_test.strftime(\"%Y-%m-%d\")}')"
   ]
  },
  {
   "cell_type": "code",
   "execution_count": 63,
   "id": "suspected-nightmare",
   "metadata": {},
   "outputs": [],
   "source": [
    "# Train model for all symbols and targets config params (Random Forest used)\n",
    "train_model.create_models()\n",
    "\n",
    "# Load pickle models\n",
    "models = load_models(models_path)"
   ]
  },
  {
   "cell_type": "markdown",
   "id": "moved-queens",
   "metadata": {},
   "source": [
    "####  Curves shape for ITSA4"
   ]
  },
  {
   "cell_type": "code",
   "execution_count": 64,
   "id": "another-benjamin",
   "metadata": {},
   "outputs": [],
   "source": [
    "# Create dataframe with features and targets in test period for ITSA4\n",
    "itsa4_test, ibov_test = TrainModel.prep_historical_data(stocks_df, 'ITSA4', start_date_test, end_date_test)\n",
    "vars_itsa4_test_df = TrainModel.prep_modeling_data(itsa4_test, ibov_test, targets_dict, start_date_test, end_date_test, True)"
   ]
  },
  {
   "cell_type": "code",
   "execution_count": 65,
   "id": "inappropriate-livestock",
   "metadata": {},
   "outputs": [
    {
     "data": {
      "image/png": "[encoded data removed]",
      "text/plain": [
       "<Figure size 432x288 with 1 Axes>"
      ]
     },
     "metadata": {
      "needs_background": "light"
     },
     "output_type": "display_data"
    }
   ],
   "source": [
    "# Plot result for next day prediction\n",
    "ax = TrainModel.plot_test_result('1_day', models, 'ITSA4', vars_itsa4_test_df)"
   ]
  },
  {
   "cell_type": "markdown",
   "id": "romantic-launch",
   "metadata": {},
   "source": [
    "This model only keeps price in a safe mean deslocated from real price. It try to predict oscilations only in the end."
   ]
  },
  {
   "cell_type": "code",
   "execution_count": 66,
   "id": "thousand-contents",
   "metadata": {},
   "outputs": [
    {
     "data": {
      "image/png": "[encoded data removed]",
      "text/plain": [
       "<Figure size 432x288 with 1 Axes>"
      ]
     },
     "metadata": {
      "needs_background": "light"
     },
     "output_type": "display_data"
    }
   ],
   "source": [
    "# Plot result for next week prediction\n",
    "ax = TrainModel.plot_test_result('1_week', models, 'ITSA4', vars_itsa4_test_df)"
   ]
  },
  {
   "cell_type": "markdown",
   "id": "solar-exercise",
   "metadata": {},
   "source": [
    "This model keeps safe in a mean and forecast price decay tendency in last variation, but there is a error offset between the two curves."
   ]
  },
  {
   "cell_type": "code",
   "execution_count": 67,
   "id": "sonic-quilt",
   "metadata": {},
   "outputs": [
    {
     "data": {
      "image/png": "[encoded data removed]",
      "text/plain": [
       "<Figure size 432x288 with 1 Axes>"
      ]
     },
     "metadata": {
      "needs_background": "light"
     },
     "output_type": "display_data"
    }
   ],
   "source": [
    "# Plot result for next 2 weeks prediction\n",
    "ax = TrainModel.plot_test_result('2_weeks', models, 'ITSA4', vars_itsa4_test_df)"
   ]
  },
  {
   "cell_type": "markdown",
   "id": "drawn-conducting",
   "metadata": {},
   "source": [
    "Same pattern of last plot, but a bit more smoothed and it fixs offset error in the end."
   ]
  },
  {
   "cell_type": "code",
   "execution_count": 68,
   "id": "superb-duplicate",
   "metadata": {},
   "outputs": [
    {
     "data": {
      "image/png": "[encoded data removed]",
      "text/plain": [
       "<Figure size 432x288 with 1 Axes>"
      ]
     },
     "metadata": {
      "needs_background": "light"
     },
     "output_type": "display_data"
    }
   ],
   "source": [
    "# Plot result for next month prediction\n",
    "ax = TrainModel.plot_test_result('1_month', models, 'ITSA4', vars_itsa4_test_df)"
   ]
  },
  {
   "cell_type": "markdown",
   "id": "known-spank",
   "metadata": {},
   "source": [
    "This slow shows a good prediction after `2020-12-15`, bacause the area between the two curves is small."
   ]
  },
  {
   "cell_type": "markdown",
   "id": "dependent-outside",
   "metadata": {},
   "source": [
    "####  Curves shape for MGLU3"
   ]
  },
  {
   "cell_type": "code",
   "execution_count": 69,
   "id": "sweet-happening",
   "metadata": {},
   "outputs": [],
   "source": [
    "mglu3_test, ibov_test = TrainModel.prep_historical_data(stocks_df, 'MGLU3', start_date_test, end_date_test)\n",
    "vars_mglu3_test_df = TrainModel.prep_modeling_data(mglu3_test, ibov_test, targets_dict, start_date_test, end_date_test, True)"
   ]
  },
  {
   "cell_type": "code",
   "execution_count": 70,
   "id": "african-steps",
   "metadata": {},
   "outputs": [
    {
     "data": {
      "image/png": "[encoded data removed]",
      "text/plain": [
       "<Figure size 432x288 with 1 Axes>"
      ]
     },
     "metadata": {
      "needs_background": "light"
     },
     "output_type": "display_data"
    }
   ],
   "source": [
    "# Plot result for next day prediction\n",
    "ax = TrainModel.plot_test_result('1_day', models, 'MGLU3', vars_mglu3_test_df)"
   ]
  },
  {
   "cell_type": "markdown",
   "id": "given-routine",
   "metadata": {},
   "source": [
    "This model is just copying past price behaviour."
   ]
  },
  {
   "cell_type": "code",
   "execution_count": 71,
   "id": "unlike-candidate",
   "metadata": {},
   "outputs": [
    {
     "data": {
      "image/png": "[encoded data removed]",
      "text/plain": [
       "<Figure size 432x288 with 1 Axes>"
      ]
     },
     "metadata": {
      "needs_background": "light"
     },
     "output_type": "display_data"
    }
   ],
   "source": [
    "# Plot result for next week prediction\n",
    "ax = TrainModel.plot_test_result('1_week', models, 'MGLU3', vars_mglu3_test_df)"
   ]
  },
  {
   "cell_type": "markdown",
   "id": "historic-shade",
   "metadata": {},
   "source": [
    "This model keeps price prediction in a safe mean, and got a wrong direction in the end."
   ]
  },
  {
   "cell_type": "code",
   "execution_count": 72,
   "id": "israeli-master",
   "metadata": {},
   "outputs": [
    {
     "data": {
      "image/png": "[encoded data removed]",
      "text/plain": [
       "<Figure size 432x288 with 1 Axes>"
      ]
     },
     "metadata": {
      "needs_background": "light"
     },
     "output_type": "display_data"
    }
   ],
   "source": [
    "# Plot result for next 2 weeks prediction\n",
    "ax = TrainModel.plot_test_result('2_weeks', models, 'MGLU3', vars_mglu3_test_df)"
   ]
  },
  {
   "cell_type": "markdown",
   "id": "permanent-hebrew",
   "metadata": {},
   "source": [
    "This plot shows a \"safe mean\" model too."
   ]
  },
  {
   "cell_type": "code",
   "execution_count": 73,
   "id": "visible-citizenship",
   "metadata": {},
   "outputs": [
    {
     "data": {
      "image/png": "[encoded data removed]",
      "text/plain": [
       "<Figure size 432x288 with 1 Axes>"
      ]
     },
     "metadata": {
      "needs_background": "light"
     },
     "output_type": "display_data"
    }
   ],
   "source": [
    "# Plot result for next month prediction\n",
    "ax = TrainModel.plot_test_result('1_month', models, 'MGLU3', vars_mglu3_test_df)"
   ]
  },
  {
   "cell_type": "markdown",
   "id": "floral-toilet",
   "metadata": {},
   "source": [
    "It is a bit strange the first predictions, but it keeps price in a safe mean too."
   ]
  },
  {
   "cell_type": "markdown",
   "id": "classified-canvas",
   "metadata": {},
   "source": [
    "####  Curves shape for EGIE3"
   ]
  },
  {
   "cell_type": "code",
   "execution_count": 74,
   "id": "pacific-number",
   "metadata": {},
   "outputs": [],
   "source": [
    "egie3_test, ibov_test = TrainModel.prep_historical_data(stocks_df, 'EGIE3', start_date_test, end_date_test)\n",
    "vars_egie3_test_df = TrainModel.prep_modeling_data(egie3_test, ibov_test, targets_dict, start_date_test, end_date_test, True)"
   ]
  },
  {
   "cell_type": "code",
   "execution_count": 75,
   "id": "incident-formula",
   "metadata": {},
   "outputs": [
    {
     "data": {
      "image/png": "[encoded data removed]",
      "text/plain": [
       "<Figure size 432x288 with 1 Axes>"
      ]
     },
     "metadata": {
      "needs_background": "light"
     },
     "output_type": "display_data"
    }
   ],
   "source": [
    "# Plot result for next day prediction\n",
    "ax = TrainModel.plot_test_result('1_day', models, 'EGIE3', vars_egie3_test_df)"
   ]
  },
  {
   "cell_type": "markdown",
   "id": "announced-caribbean",
   "metadata": {},
   "source": [
    "This model is only copying the past price behaviour."
   ]
  },
  {
   "cell_type": "code",
   "execution_count": 76,
   "id": "excess-secondary",
   "metadata": {},
   "outputs": [
    {
     "data": {
      "image/png": "[encoded data removed]",
      "text/plain": [
       "<Figure size 432x288 with 1 Axes>"
      ]
     },
     "metadata": {
      "needs_background": "light"
     },
     "output_type": "display_data"
    }
   ],
   "source": [
    "# Plot result for next week prediction\n",
    "ax = TrainModel.plot_test_result('1_week', models, 'EGIE3', vars_egie3_test_df)"
   ]
  },
  {
   "cell_type": "markdown",
   "id": "given-objective",
   "metadata": {},
   "source": [
    "This model tries to make a real prediction. It is possible to see in the end of december, the model predicts the fall of prices but there is a offset error."
   ]
  },
  {
   "cell_type": "code",
   "execution_count": 77,
   "id": "missing-hardware",
   "metadata": {},
   "outputs": [
    {
     "data": {
      "image/png": "[encoded data removed]",
      "text/plain": [
       "<Figure size 432x288 with 1 Axes>"
      ]
     },
     "metadata": {
      "needs_background": "light"
     },
     "output_type": "display_data"
    }
   ],
   "source": [
    "# Plot result for next 2 weeks prediction\n",
    "ax = TrainModel.plot_test_result('2_weeks', models, 'EGIE3', vars_egie3_test_df)"
   ]
  },
  {
   "cell_type": "markdown",
   "id": "formal-patent",
   "metadata": {},
   "source": [
    "This plot makes some good predictions in price direction, for the last period it was right in price."
   ]
  },
  {
   "cell_type": "code",
   "execution_count": 78,
   "id": "academic-finder",
   "metadata": {},
   "outputs": [
    {
     "data": {
      "image/png": "[encoded data removed]",
      "text/plain": [
       "<Figure size 432x288 with 1 Axes>"
      ]
     },
     "metadata": {
      "needs_background": "light"
     },
     "output_type": "display_data"
    }
   ],
   "source": [
    "# Plot result for next month prediction\n",
    "ax = TrainModel.plot_test_result('1_month', models, 'EGIE3', vars_egie3_test_df)"
   ]
  },
  {
   "cell_type": "markdown",
   "id": "precise-trainer",
   "metadata": {},
   "source": [
    "This model tries to predict tendencies, but it is not so accurate."
   ]
  },
  {
   "cell_type": "markdown",
   "id": "exclusive-worcester",
   "metadata": {},
   "source": [
    "## <a class=\"anchor\" id=\"Conclusion\">Part 5 : Conclusion</a>"
   ]
  },
  {
   "cell_type": "markdown",
   "id": "latest-naples",
   "metadata": {},
   "source": [
    "### Reflection"
   ]
  },
  {
   "cell_type": "markdown",
   "id": "fitting-disclaimer",
   "metadata": {},
   "source": [
    "In this project was colected and cleaned data from API, created a lot of features based on Technical analysis and implemented each one with window functions. For it, it was necessary to search what already is implemented in python packages such as `pandas ewm` that facilitated EMA implementation. It is not easy to know what kind of features to use and how long set up a time window for theses features. \n",
    "\n",
    "For modeling step, it was separated in three phases: \n",
    "- Initial phase was used a simple linear regression to create a baseline result. \n",
    "- In intermediate phase, it was tested random forest and arificial neural network. This improvement showed the greater gain in development process. The hyperparams were tunned for `1_month` target and manually tested, this approach takes a lot of time and it was difficult to keep track of improvements. However, it is a good way to feel what kind of params should be tunned and what range is more appropriate.\n",
    "- For final phase, it was used insights from manual params tunning and created a random search optimization. It was necessary to find a way to use a specific cross-validation for time series and avoid data leakage. Moreover, model configs were tunned  for each target period, increasing analysis results to evaluate. The patterns in this problem change a lot, and it is easy to overfit in train dataset tendencies. Therefore, random forest showed to be the best option due to its robustness.\n",
    "\n",
    "Evaluating results for MAE metric, it was achieved initial goal of predicting stocks price with a low MAE. However, it can not directly translate into actions of buying or selling stocks if forecast price always is too close of last price. It is possible to see in shape analysis that there are a lot of improvement to be done, because the real gain is predict price trend before it happens.\n",
    "\n",
    "In result perceptions was possible to observe 3 types of model behaviours:\n",
    "- Only keep safe in a mean price to not get a big error\n",
    "- Copy past behaviour but nothing is new\n",
    "- Try to predict some trend, but probably get wrong.\n",
    "\n",
    "The last model type is the most interesting, it needs to be improved but it is a good start."
   ]
  },
  {
   "cell_type": "markdown",
   "id": "developing-formation",
   "metadata": {},
   "source": [
    "### Improvement"
   ]
  },
  {
   "cell_type": "markdown",
   "id": "modified-merchandise",
   "metadata": {},
   "source": [
    "Forecasting stock prices is a broad challenge, there are many other hypothesis to test in future works:\n",
    "- Use other model metric instead of MAE to check if the model takes more choices\n",
    "- Use new features based in Fundamental analysis and apply text mining in social media to try to catch market trends\n",
    "- Test new types of models, specific to time series.\n",
    "- There is a lot of offset error in predictions, focusing on this problem can have a good performance gain"
   ]
  }
 ],
 "metadata": {
  "kernelspec": {
   "display_name": "env",
   "language": "python",
   "name": "env"
  },
  "language_info": {
   "codemirror_mode": {
    "name": "ipython",
    "version": 3
   },
   "file_extension": ".py",
   "mimetype": "text/x-python",
   "name": "python",
   "nbconvert_exporter": "python",
   "pygments_lexer": "ipython3",
   "version": "3.7.6"
  }
 },
 "nbformat": 4,
 "nbformat_minor": 5
}
